{
 "cells": [
  {
   "cell_type": "markdown",
   "metadata": {},
   "source": [
    "# Boxplots for Visualization of Well Log Data Dis\n",
    "\n",
    "\n",
    "\n",
    "### **Boxplot**\n",
    "Boxplot is a graphical and standardized way to visualize the distribution of data using five key numbers:\n",
    "- median\n",
    "- 25th Percentile\n",
    "- 75th Percentile\n",
    "- minimum\n",
    "- maximum\n",
    "values within our data.\n",
    "\n",
    "We take median, 25th Percentile and 75th Percentile to get **Inter-quartile range** in the form of box. Then we draw lines to **min** and **max** values form the box.\n",
    "\n",
    "Anything outside of this line in form of dots is condsidered as **Outliers**.\n",
    "\n",
    "We can use boxplots in a number of ways;\n",
    "- identify outliers\n",
    "- identify range and spread of data\n",
    "- determine if distribution is skewed\n",
    "\n",
    "## importing modules and loading data"
   ]
  },
  {
   "cell_type": "code",
   "execution_count": 1,
   "metadata": {},
   "outputs": [],
   "source": [
    "import pandas as pd\n",
    "import matplotlib.pyplot as plt\n",
    "import lasio"
   ]
  },
  {
   "cell_type": "code",
   "execution_count": 34,
   "metadata": {},
   "outputs": [],
   "source": [
    "las = lasio.read('../Data/inputs/16_7-3.las')"
   ]
  },
  {
   "cell_type": "code",
   "execution_count": 35,
   "metadata": {},
   "outputs": [
    {
     "data": {
      "text/html": [
       "<div>\n",
       "<style scoped>\n",
       "    .dataframe tbody tr th:only-of-type {\n",
       "        vertical-align: middle;\n",
       "    }\n",
       "\n",
       "    .dataframe tbody tr th {\n",
       "        vertical-align: top;\n",
       "    }\n",
       "\n",
       "    .dataframe thead th {\n",
       "        text-align: right;\n",
       "    }\n",
       "</style>\n",
       "<table border=\"1\" class=\"dataframe\">\n",
       "  <thead>\n",
       "    <tr style=\"text-align: right;\">\n",
       "      <th></th>\n",
       "      <th>LITHOLOGY_GEOLINK</th>\n",
       "      <th>CALI</th>\n",
       "      <th>DRHO</th>\n",
       "      <th>NPHI</th>\n",
       "      <th>RHOB</th>\n",
       "      <th>GR</th>\n",
       "      <th>DTC</th>\n",
       "      <th>DTE</th>\n",
       "      <th>RDEP</th>\n",
       "      <th>SP</th>\n",
       "      <th>RSHA</th>\n",
       "      <th>RMED</th>\n",
       "    </tr>\n",
       "    <tr>\n",
       "      <th>DEPT</th>\n",
       "      <th></th>\n",
       "      <th></th>\n",
       "      <th></th>\n",
       "      <th></th>\n",
       "      <th></th>\n",
       "      <th></th>\n",
       "      <th></th>\n",
       "      <th></th>\n",
       "      <th></th>\n",
       "      <th></th>\n",
       "      <th></th>\n",
       "      <th></th>\n",
       "    </tr>\n",
       "  </thead>\n",
       "  <tbody>\n",
       "    <tr>\n",
       "      <th>105.125000</th>\n",
       "      <td>NaN</td>\n",
       "      <td>15.771</td>\n",
       "      <td>NaN</td>\n",
       "      <td>NaN</td>\n",
       "      <td>1.0</td>\n",
       "      <td>13.784</td>\n",
       "      <td>201.073471</td>\n",
       "      <td>61935360.0</td>\n",
       "      <td>1.341</td>\n",
       "      <td>20.712999</td>\n",
       "      <td>0.385</td>\n",
       "      <td>0.385</td>\n",
       "    </tr>\n",
       "    <tr>\n",
       "      <th>105.250000</th>\n",
       "      <td>NaN</td>\n",
       "      <td>15.771</td>\n",
       "      <td>NaN</td>\n",
       "      <td>NaN</td>\n",
       "      <td>1.0</td>\n",
       "      <td>13.784</td>\n",
       "      <td>201.074219</td>\n",
       "      <td>61935360.0</td>\n",
       "      <td>1.341</td>\n",
       "      <td>20.712999</td>\n",
       "      <td>0.385</td>\n",
       "      <td>0.385</td>\n",
       "    </tr>\n",
       "    <tr>\n",
       "      <th>105.375000</th>\n",
       "      <td>NaN</td>\n",
       "      <td>15.771</td>\n",
       "      <td>NaN</td>\n",
       "      <td>NaN</td>\n",
       "      <td>1.0</td>\n",
       "      <td>13.784</td>\n",
       "      <td>201.076233</td>\n",
       "      <td>61935360.0</td>\n",
       "      <td>1.341</td>\n",
       "      <td>20.712999</td>\n",
       "      <td>0.385</td>\n",
       "      <td>0.385</td>\n",
       "    </tr>\n",
       "    <tr>\n",
       "      <th>105.500008</th>\n",
       "      <td>NaN</td>\n",
       "      <td>15.771</td>\n",
       "      <td>NaN</td>\n",
       "      <td>NaN</td>\n",
       "      <td>1.0</td>\n",
       "      <td>13.784</td>\n",
       "      <td>201.076752</td>\n",
       "      <td>61935360.0</td>\n",
       "      <td>1.341</td>\n",
       "      <td>20.712999</td>\n",
       "      <td>0.385</td>\n",
       "      <td>0.385</td>\n",
       "    </tr>\n",
       "    <tr>\n",
       "      <th>105.624992</th>\n",
       "      <td>NaN</td>\n",
       "      <td>15.771</td>\n",
       "      <td>NaN</td>\n",
       "      <td>NaN</td>\n",
       "      <td>1.0</td>\n",
       "      <td>13.784</td>\n",
       "      <td>201.073242</td>\n",
       "      <td>61935360.0</td>\n",
       "      <td>1.341</td>\n",
       "      <td>20.712999</td>\n",
       "      <td>0.385</td>\n",
       "      <td>0.385</td>\n",
       "    </tr>\n",
       "  </tbody>\n",
       "</table>\n",
       "</div>"
      ],
      "text/plain": [
       "            LITHOLOGY_GEOLINK    CALI  DRHO  NPHI  RHOB      GR         DTC  \\\n",
       "DEPT                                                                          \n",
       "105.125000                NaN  15.771   NaN   NaN   1.0  13.784  201.073471   \n",
       "105.250000                NaN  15.771   NaN   NaN   1.0  13.784  201.074219   \n",
       "105.375000                NaN  15.771   NaN   NaN   1.0  13.784  201.076233   \n",
       "105.500008                NaN  15.771   NaN   NaN   1.0  13.784  201.076752   \n",
       "105.624992                NaN  15.771   NaN   NaN   1.0  13.784  201.073242   \n",
       "\n",
       "                   DTE   RDEP         SP   RSHA   RMED  \n",
       "DEPT                                                    \n",
       "105.125000  61935360.0  1.341  20.712999  0.385  0.385  \n",
       "105.250000  61935360.0  1.341  20.712999  0.385  0.385  \n",
       "105.375000  61935360.0  1.341  20.712999  0.385  0.385  \n",
       "105.500008  61935360.0  1.341  20.712999  0.385  0.385  \n",
       "105.624992  61935360.0  1.341  20.712999  0.385  0.385  "
      ]
     },
     "execution_count": 35,
     "metadata": {},
     "output_type": "execute_result"
    }
   ],
   "source": [
    "df=las.df()\n",
    "df.head()"
   ]
  },
  {
   "cell_type": "code",
   "execution_count": 36,
   "metadata": {},
   "outputs": [],
   "source": [
    "df.dropna(inplace=True)"
   ]
  },
  {
   "cell_type": "code",
   "execution_count": 60,
   "metadata": {},
   "outputs": [],
   "source": [
    "df = df.drop(['LITHOLOGY_GEOLINK'], axis=1)"
   ]
  },
  {
   "cell_type": "code",
   "execution_count": 61,
   "metadata": {},
   "outputs": [
    {
     "data": {
      "text/html": [
       "<div>\n",
       "<style scoped>\n",
       "    .dataframe tbody tr th:only-of-type {\n",
       "        vertical-align: middle;\n",
       "    }\n",
       "\n",
       "    .dataframe tbody tr th {\n",
       "        vertical-align: top;\n",
       "    }\n",
       "\n",
       "    .dataframe thead th {\n",
       "        text-align: right;\n",
       "    }\n",
       "</style>\n",
       "<table border=\"1\" class=\"dataframe\">\n",
       "  <thead>\n",
       "    <tr style=\"text-align: right;\">\n",
       "      <th></th>\n",
       "      <th>CALI</th>\n",
       "      <th>DRHO</th>\n",
       "      <th>NPHI</th>\n",
       "      <th>RHOB</th>\n",
       "      <th>GR</th>\n",
       "      <th>DTC</th>\n",
       "      <th>DTE</th>\n",
       "      <th>RDEP</th>\n",
       "      <th>SP</th>\n",
       "      <th>RSHA</th>\n",
       "      <th>RMED</th>\n",
       "    </tr>\n",
       "    <tr>\n",
       "      <th>DEPT</th>\n",
       "      <th></th>\n",
       "      <th></th>\n",
       "      <th></th>\n",
       "      <th></th>\n",
       "      <th></th>\n",
       "      <th></th>\n",
       "      <th></th>\n",
       "      <th></th>\n",
       "      <th></th>\n",
       "      <th></th>\n",
       "      <th></th>\n",
       "    </tr>\n",
       "  </thead>\n",
       "  <tbody>\n",
       "    <tr>\n",
       "      <th>2274.125000</th>\n",
       "      <td>12.316000</td>\n",
       "      <td>-1.442</td>\n",
       "      <td>0.24370</td>\n",
       "      <td>2.538028</td>\n",
       "      <td>8.853000</td>\n",
       "      <td>71.270836</td>\n",
       "      <td>21205806.0</td>\n",
       "      <td>2.619</td>\n",
       "      <td>55.948002</td>\n",
       "      <td>2.537</td>\n",
       "      <td>2.537</td>\n",
       "    </tr>\n",
       "    <tr>\n",
       "      <th>2274.250000</th>\n",
       "      <td>12.304000</td>\n",
       "      <td>-1.442</td>\n",
       "      <td>0.24370</td>\n",
       "      <td>2.544745</td>\n",
       "      <td>9.507000</td>\n",
       "      <td>70.397079</td>\n",
       "      <td>20983930.0</td>\n",
       "      <td>2.719</td>\n",
       "      <td>55.879002</td>\n",
       "      <td>2.572</td>\n",
       "      <td>2.572</td>\n",
       "    </tr>\n",
       "    <tr>\n",
       "      <th>2274.375000</th>\n",
       "      <td>12.300000</td>\n",
       "      <td>-1.442</td>\n",
       "      <td>0.24370</td>\n",
       "      <td>2.555549</td>\n",
       "      <td>9.818000</td>\n",
       "      <td>69.350998</td>\n",
       "      <td>20631364.0</td>\n",
       "      <td>2.817</td>\n",
       "      <td>55.794998</td>\n",
       "      <td>2.616</td>\n",
       "      <td>2.616</td>\n",
       "    </tr>\n",
       "    <tr>\n",
       "      <th>2274.500244</th>\n",
       "      <td>12.305000</td>\n",
       "      <td>-1.442</td>\n",
       "      <td>0.24370</td>\n",
       "      <td>2.568126</td>\n",
       "      <td>9.633000</td>\n",
       "      <td>68.025261</td>\n",
       "      <td>20228382.0</td>\n",
       "      <td>2.911</td>\n",
       "      <td>55.751999</td>\n",
       "      <td>2.663</td>\n",
       "      <td>2.663</td>\n",
       "    </tr>\n",
       "    <tr>\n",
       "      <th>2274.625244</th>\n",
       "      <td>12.315001</td>\n",
       "      <td>-1.442</td>\n",
       "      <td>0.24370</td>\n",
       "      <td>2.580223</td>\n",
       "      <td>9.057000</td>\n",
       "      <td>66.785942</td>\n",
       "      <td>19847766.0</td>\n",
       "      <td>3.000</td>\n",
       "      <td>55.771999</td>\n",
       "      <td>2.708</td>\n",
       "      <td>2.708</td>\n",
       "    </tr>\n",
       "    <tr>\n",
       "      <th>...</th>\n",
       "      <td>...</td>\n",
       "      <td>...</td>\n",
       "      <td>...</td>\n",
       "      <td>...</td>\n",
       "      <td>...</td>\n",
       "      <td>...</td>\n",
       "      <td>...</td>\n",
       "      <td>...</td>\n",
       "      <td>...</td>\n",
       "      <td>...</td>\n",
       "      <td>...</td>\n",
       "    </tr>\n",
       "    <tr>\n",
       "      <th>3129.250244</th>\n",
       "      <td>8.577000</td>\n",
       "      <td>0.080</td>\n",
       "      <td>0.08998</td>\n",
       "      <td>2.494385</td>\n",
       "      <td>66.622002</td>\n",
       "      <td>65.333237</td>\n",
       "      <td>20356986.0</td>\n",
       "      <td>5.939</td>\n",
       "      <td>61.505001</td>\n",
       "      <td>5.219</td>\n",
       "      <td>5.219</td>\n",
       "    </tr>\n",
       "    <tr>\n",
       "      <th>3129.375244</th>\n",
       "      <td>8.588000</td>\n",
       "      <td>0.086</td>\n",
       "      <td>0.09211</td>\n",
       "      <td>2.489224</td>\n",
       "      <td>65.036003</td>\n",
       "      <td>63.183983</td>\n",
       "      <td>19829486.0</td>\n",
       "      <td>5.971</td>\n",
       "      <td>60.726002</td>\n",
       "      <td>5.215</td>\n",
       "      <td>5.215</td>\n",
       "    </tr>\n",
       "    <tr>\n",
       "      <th>3129.500488</th>\n",
       "      <td>8.597000</td>\n",
       "      <td>0.085</td>\n",
       "      <td>0.09594</td>\n",
       "      <td>2.490916</td>\n",
       "      <td>63.027000</td>\n",
       "      <td>62.437099</td>\n",
       "      <td>19562464.0</td>\n",
       "      <td>5.860</td>\n",
       "      <td>59.928001</td>\n",
       "      <td>5.141</td>\n",
       "      <td>5.141</td>\n",
       "    </tr>\n",
       "    <tr>\n",
       "      <th>3129.625488</th>\n",
       "      <td>8.603000</td>\n",
       "      <td>0.076</td>\n",
       "      <td>0.10083</td>\n",
       "      <td>2.495447</td>\n",
       "      <td>61.730000</td>\n",
       "      <td>62.116806</td>\n",
       "      <td>19543402.0</td>\n",
       "      <td>5.645</td>\n",
       "      <td>59.146000</td>\n",
       "      <td>4.996</td>\n",
       "      <td>4.996</td>\n",
       "    </tr>\n",
       "    <tr>\n",
       "      <th>3129.750488</th>\n",
       "      <td>8.602000</td>\n",
       "      <td>0.063</td>\n",
       "      <td>0.10560</td>\n",
       "      <td>2.499311</td>\n",
       "      <td>61.238998</td>\n",
       "      <td>62.645828</td>\n",
       "      <td>19685892.0</td>\n",
       "      <td>5.371</td>\n",
       "      <td>58.388000</td>\n",
       "      <td>4.800</td>\n",
       "      <td>4.800</td>\n",
       "    </tr>\n",
       "  </tbody>\n",
       "</table>\n",
       "<p>6821 rows × 11 columns</p>\n",
       "</div>"
      ],
      "text/plain": [
       "                  CALI   DRHO     NPHI      RHOB         GR        DTC  \\\n",
       "DEPT                                                                     \n",
       "2274.125000  12.316000 -1.442  0.24370  2.538028   8.853000  71.270836   \n",
       "2274.250000  12.304000 -1.442  0.24370  2.544745   9.507000  70.397079   \n",
       "2274.375000  12.300000 -1.442  0.24370  2.555549   9.818000  69.350998   \n",
       "2274.500244  12.305000 -1.442  0.24370  2.568126   9.633000  68.025261   \n",
       "2274.625244  12.315001 -1.442  0.24370  2.580223   9.057000  66.785942   \n",
       "...                ...    ...      ...       ...        ...        ...   \n",
       "3129.250244   8.577000  0.080  0.08998  2.494385  66.622002  65.333237   \n",
       "3129.375244   8.588000  0.086  0.09211  2.489224  65.036003  63.183983   \n",
       "3129.500488   8.597000  0.085  0.09594  2.490916  63.027000  62.437099   \n",
       "3129.625488   8.603000  0.076  0.10083  2.495447  61.730000  62.116806   \n",
       "3129.750488   8.602000  0.063  0.10560  2.499311  61.238998  62.645828   \n",
       "\n",
       "                    DTE   RDEP         SP   RSHA   RMED  \n",
       "DEPT                                                     \n",
       "2274.125000  21205806.0  2.619  55.948002  2.537  2.537  \n",
       "2274.250000  20983930.0  2.719  55.879002  2.572  2.572  \n",
       "2274.375000  20631364.0  2.817  55.794998  2.616  2.616  \n",
       "2274.500244  20228382.0  2.911  55.751999  2.663  2.663  \n",
       "2274.625244  19847766.0  3.000  55.771999  2.708  2.708  \n",
       "...                 ...    ...        ...    ...    ...  \n",
       "3129.250244  20356986.0  5.939  61.505001  5.219  5.219  \n",
       "3129.375244  19829486.0  5.971  60.726002  5.215  5.215  \n",
       "3129.500488  19562464.0  5.860  59.928001  5.141  5.141  \n",
       "3129.625488  19543402.0  5.645  59.146000  4.996  4.996  \n",
       "3129.750488  19685892.0  5.371  58.388000  4.800  4.800  \n",
       "\n",
       "[6821 rows x 11 columns]"
      ]
     },
     "execution_count": 61,
     "metadata": {},
     "output_type": "execute_result"
    }
   ],
   "source": [
    "df"
   ]
  },
  {
   "cell_type": "markdown",
   "metadata": {},
   "source": [
    "# Boxplots"
   ]
  },
  {
   "cell_type": "code",
   "execution_count": 38,
   "metadata": {},
   "outputs": [
    {
     "data": {
      "text/plain": [
       "<AxesSubplot:>"
      ]
     },
     "execution_count": 38,
     "metadata": {},
     "output_type": "execute_result"
    },
    {
     "data": {
      "image/png": "[encoded data removed]",
      "text/plain": [
       "<Figure size 432x288 with 1 Axes>"
      ]
     },
     "metadata": {
      "needs_background": "light"
     },
     "output_type": "display_data"
    }
   ],
   "source": [
    "# simple boxplot using pandas\n",
    "df['GR'].plot(kind='box')"
   ]
  },
  {
   "cell_type": "code",
   "execution_count": 39,
   "metadata": {},
   "outputs": [
    {
     "data": {
      "text/plain": [
       "[]"
      ]
     },
     "execution_count": 39,
     "metadata": {},
     "output_type": "execute_result"
    },
    {
     "data": {
      "image/png": "[encoded data removed]",
      "text/plain": [
       "<Figure size 432x288 with 1 Axes>"
      ]
     },
     "metadata": {
      "needs_background": "light"
     },
     "output_type": "display_data"
    }
   ],
   "source": [
    "# viewing logarithmically scaled data\n",
    "df['RDEP'].plot(kind='box');\n",
    "plt.semilogy()"
   ]
  },
  {
   "cell_type": "code",
   "execution_count": 40,
   "metadata": {},
   "outputs": [
    {
     "data": {
      "text/plain": [
       "<AxesSubplot:>"
      ]
     },
     "execution_count": 40,
     "metadata": {},
     "output_type": "execute_result"
    },
    {
     "data": {
      "image/png": "[encoded data removed]",
      "text/plain": [
       "<Figure size 432x288 with 1 Axes>"
      ]
     },
     "metadata": {
      "needs_background": "light"
     },
     "output_type": "display_data"
    }
   ],
   "source": [
    "# rotating the plot\n",
    "df['GR'].plot(kind='box', vert=False)"
   ]
  },
  {
   "cell_type": "code",
   "execution_count": 41,
   "metadata": {},
   "outputs": [
    {
     "data": {
      "text/plain": [
       "{'whiskers': [<matplotlib.lines.Line2D at 0x1fced636800>,\n",
       "  <matplotlib.lines.Line2D at 0x1fced636ef0>],\n",
       " 'caps': [<matplotlib.lines.Line2D at 0x1fced635810>,\n",
       "  <matplotlib.lines.Line2D at 0x1fced636fe0>],\n",
       " 'boxes': [<matplotlib.lines.Line2D at 0x1fced6351b0>],\n",
       " 'medians': [<matplotlib.lines.Line2D at 0x1fced635db0>],\n",
       " 'fliers': [<matplotlib.lines.Line2D at 0x1fced637310>],\n",
       " 'means': []}"
      ]
     },
     "execution_count": 41,
     "metadata": {},
     "output_type": "execute_result"
    },
    {
     "data": {
      "image/png": "[encoded data removed]",
      "text/plain": [
       "<Figure size 432x288 with 1 Axes>"
      ]
     },
     "metadata": {
      "needs_background": "light"
     },
     "output_type": "display_data"
    }
   ],
   "source": [
    "#Using matplotlib to make a boxplot\n",
    "\n",
    "plt.boxplot(x=df['GR'], vert=False)"
   ]
  },
  {
   "cell_type": "markdown",
   "metadata": {},
   "source": [
    "# Styling the boxplot\n"
   ]
  },
  {
   "cell_type": "code",
   "execution_count": 43,
   "metadata": {},
   "outputs": [
    {
     "data": {
      "image/png": "[encoded data removed]",
      "text/plain": [
       "<Figure size 432x288 with 1 Axes>"
      ]
     },
     "metadata": {
      "needs_background": "light"
     },
     "output_type": "display_data"
    }
   ],
   "source": [
    "# Changing the outlier markers\n",
    "red_circle=dict(markerfacecolor='red', marker='o')\n",
    "plt.boxplot(x=df['NPHI'], vert=False,flierprops=red_circle);"
   ]
  },
  {
   "cell_type": "code",
   "execution_count": 45,
   "metadata": {},
   "outputs": [
    {
     "data": {
      "text/plain": [
       "{'whiskers': [<matplotlib.lines.Line2D at 0x1fced9e03a0>,\n",
       "  <matplotlib.lines.Line2D at 0x1fced9e1720>],\n",
       " 'caps': [<matplotlib.lines.Line2D at 0x1fced9e0b80>,\n",
       "  <matplotlib.lines.Line2D at 0x1fced9e2020>],\n",
       " 'boxes': [<matplotlib.lines.Line2D at 0x1fced9e2140>],\n",
       " 'medians': [<matplotlib.lines.Line2D at 0x1fced9e0eb0>],\n",
       " 'fliers': [<matplotlib.lines.Line2D at 0x1fcec6b9e70>],\n",
       " 'means': [<matplotlib.lines.Line2D at 0x1fcec6b91e0>]}"
      ]
     },
     "execution_count": 45,
     "metadata": {},
     "output_type": "execute_result"
    },
    {
     "data": {
      "image/png": "[encoded data removed]",
      "text/plain": [
       "<Figure size 432x288 with 1 Axes>"
      ]
     },
     "metadata": {
      "needs_background": "light"
     },
     "output_type": "display_data"
    }
   ],
   "source": [
    "# Adding the mean\n",
    "red_circle = dict(markerfacecolor='red', marker='o')\n",
    "mean_shape=dict(markerfacecolor='blue', marker='D')\n",
    "\n",
    "plt.boxplot(x=df['NPHI'], vert=False, flierprops=red_circle,\n",
    "            showmeans=True, meanprops=mean_shape)"
   ]
  },
  {
   "cell_type": "code",
   "execution_count": 46,
   "metadata": {},
   "outputs": [
    {
     "data": {
      "text/plain": [
       "{'whiskers': [<matplotlib.lines.Line2D at 0x1fcec8c8220>,\n",
       "  <matplotlib.lines.Line2D at 0x1fcec8c84f0>],\n",
       " 'caps': [<matplotlib.lines.Line2D at 0x1fcec8c87c0>,\n",
       "  <matplotlib.lines.Line2D at 0x1fcec8c8a90>],\n",
       " 'boxes': [<matplotlib.lines.Line2D at 0x1fcec8d7f10>],\n",
       " 'medians': [<matplotlib.lines.Line2D at 0x1fcec8c8d60>],\n",
       " 'fliers': [<matplotlib.lines.Line2D at 0x1fcec8c9300>],\n",
       " 'means': [<matplotlib.lines.Line2D at 0x1fcec8c9030>]}"
      ]
     },
     "execution_count": 46,
     "metadata": {},
     "output_type": "execute_result"
    },
    {
     "data": {
      "image/png": "[encoded data removed]",
      "text/plain": [
       "<Figure size 432x288 with 1 Axes>"
      ]
     },
     "metadata": {
      "needs_background": "light"
     },
     "output_type": "display_data"
    }
   ],
   "source": [
    "# Adding the mean\n",
    "red_circle = dict(markerfacecolor='red', marker='o')\n",
    "mean_shape=dict(markerfacecolor='blue', marker='D')\n",
    "\n",
    "plt.boxplot(x=df['CALI'], vert=False, flierprops=red_circle,\n",
    "            showmeans=True, meanprops=mean_shape, notch=True)"
   ]
  },
  {
   "cell_type": "markdown",
   "metadata": {},
   "source": [
    "# Displaying Multiple Boxplots on a figure"
   ]
  },
  {
   "cell_type": "code",
   "execution_count": 62,
   "metadata": {},
   "outputs": [
    {
     "data": {
      "text/plain": [
       "<AxesSubplot:>"
      ]
     },
     "execution_count": 62,
     "metadata": {},
     "output_type": "execute_result"
    },
    {
     "data": {
      "image/png": "[encoded data removed]",
      "text/plain": [
       "<Figure size 432x288 with 1 Axes>"
      ]
     },
     "metadata": {
      "needs_background": "light"
     },
     "output_type": "display_data"
    }
   ],
   "source": [
    "# displaying all columns in the dataframe, on a single figure\n",
    "df.plot(kind='box')"
   ]
  },
  {
   "cell_type": "code",
   "execution_count": 63,
   "metadata": {},
   "outputs": [
    {
     "data": {
      "image/png": "[encoded data removed]",
      "text/plain": [
       "<Figure size 1440x1440 with 11 Axes>"
      ]
     },
     "metadata": {
      "needs_background": "light"
     },
     "output_type": "display_data"
    }
   ],
   "source": [
    "# creating subplot of each column\n",
    "red_circle=dict(markerfacecolor='red', marker='o', markeredgecolor='white')\n",
    "\n",
    "fig, axs = plt.subplots(1,len(df.columns), figsize=(20,20))\n",
    "\n",
    "for i, ax in enumerate(axs.flat):\n",
    "    ax.boxplot(df.iloc[:,1], flierprops=red_circle)\n",
    "    ax.set_title(df.columns[i], fontsize=20, fontweight='bold')\n",
    "    ax.tick_params(axis='y', labelsize=14)\n",
    "    \n",
    "    if df.columns[i] == 'RDEP' or df.columns[i] =='RMED':\n",
    "        ax.semilogy()\n",
    "    \n",
    "plt.tight_layout()"
   ]
  },
  {
   "cell_type": "markdown",
   "metadata": {},
   "source": [
    "## Summary\n",
    "We have seen how to make simple boxplots and using subplot2grid in matplotlib to visualize distribution of Well Log Data. Data was Public Geosciences data.\n",
    "\n",
    "Author : Dilshad Raza\\\n",
    "Date Created: 07/18/2022"
   ]
  }
 ],
 "metadata": {
  "kernelspec": {
   "display_name": "Python 3.10.5 64-bit",
   "language": "python",
   "name": "python3"
  },
  "language_info": {
   "codemirror_mode": {
    "name": "ipython",
    "version": 3
   },
   "file_extension": ".py",
   "mimetype": "text/x-python",
   "name": "python",
   "nbconvert_exporter": "python",
   "pygments_lexer": "ipython3",
   "version": "3.10.5"
  },
  "orig_nbformat": 4,
  "vscode": {
   "interpreter": {
    "hash": "243456f4527cc2dd26a7b0db2d7f593392b55e517837c7eea3c1c2996538c2e6"
   }
  }
 },
 "nbformat": 4,
 "nbformat_minor": 2
}
