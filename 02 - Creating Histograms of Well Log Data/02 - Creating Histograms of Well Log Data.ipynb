{
 "cells": [
  {
   "cell_type": "markdown",
   "metadata": {},
   "source": [
    "# Creating Histograms of Well Log Data\n",
    "\n",
    "## Introduction\n",
    "Histograms are really a great way to explore the distribution of data. They are commonly used tool in petrophysics for understanding the spread and distribution of data, and for picking key interpretation parameters such as shale or clay volume minimum and maximum values. Here we will use Histograms to explore well log data;\n",
    "\n",
    "Data is takken from Public GeoScience DAta from Norway\n",
    "\n",
    "## Importing Libraries\n",
    "\n",
    "The first stage of any python project or notebook is generally to import the required libraries. In this case I will use lasio, pandas, and matplotlib modules."
   ]
  },
  {
   "cell_type": "code",
   "execution_count": 1,
   "metadata": {},
   "outputs": [],
   "source": [
    "import pandas as pd\n",
    "import lasio\n",
    "import matplotlib.pyplot as plt"
   ]
  },
  {
   "cell_type": "markdown",
   "metadata": {},
   "source": [
    "Let explore the data with LASIO module"
   ]
  },
  {
   "cell_type": "code",
   "execution_count": 2,
   "metadata": {},
   "outputs": [],
   "source": [
    "las = lasio.read('31_4-3.las')"
   ]
  },
  {
   "cell_type": "markdown",
   "metadata": {},
   "source": [
    "Then Convert the las file to pandas dataframe object."
   ]
  },
  {
   "cell_type": "code",
   "execution_count": 3,
   "metadata": {},
   "outputs": [],
   "source": [
    "df = las.df()"
   ]
  },
  {
   "cell_type": "markdown",
   "metadata": {},
   "source": [
    "Using the .describe() method to see summary statistics of the data."
   ]
  },
  {
   "cell_type": "code",
   "execution_count": 4,
   "metadata": {},
   "outputs": [
    {
     "data": {
      "text/html": [
       "<div>\n",
       "<style scoped>\n",
       "    .dataframe tbody tr th:only-of-type {\n",
       "        vertical-align: middle;\n",
       "    }\n",
       "\n",
       "    .dataframe tbody tr th {\n",
       "        vertical-align: top;\n",
       "    }\n",
       "\n",
       "    .dataframe thead th {\n",
       "        text-align: right;\n",
       "    }\n",
       "</style>\n",
       "<table border=\"1\" class=\"dataframe\">\n",
       "  <thead>\n",
       "    <tr style=\"text-align: right;\">\n",
       "      <th></th>\n",
       "      <th>LITHOLOGY_GEOLINK</th>\n",
       "      <th>CALI</th>\n",
       "      <th>DRHO</th>\n",
       "      <th>NPHI</th>\n",
       "      <th>RHOB</th>\n",
       "      <th>GR</th>\n",
       "      <th>DTC</th>\n",
       "      <th>DTE</th>\n",
       "      <th>RDEP</th>\n",
       "      <th>SP</th>\n",
       "      <th>RSHA</th>\n",
       "      <th>RMED</th>\n",
       "    </tr>\n",
       "  </thead>\n",
       "  <tbody>\n",
       "    <tr>\n",
       "      <th>count</th>\n",
       "      <td>21490.000000</td>\n",
       "      <td>26972.000000</td>\n",
       "      <td>26972.000000</td>\n",
       "      <td>20192.000000</td>\n",
       "      <td>26939.000000</td>\n",
       "      <td>26972.000000</td>\n",
       "      <td>26842.000000</td>\n",
       "      <td>26842.000000</td>\n",
       "      <td>26972.000000</td>\n",
       "      <td>26971.000000</td>\n",
       "      <td>26972.000000</td>\n",
       "      <td>26972.000000</td>\n",
       "    </tr>\n",
       "    <tr>\n",
       "      <th>mean</th>\n",
       "      <td>4.932387</td>\n",
       "      <td>14.125428</td>\n",
       "      <td>0.055093</td>\n",
       "      <td>0.203616</td>\n",
       "      <td>2.393095</td>\n",
       "      <td>72.857688</td>\n",
       "      <td>93.154192</td>\n",
       "      <td>91.204834</td>\n",
       "      <td>6.051045</td>\n",
       "      <td>67.537590</td>\n",
       "      <td>8.639019</td>\n",
       "      <td>8.639000</td>\n",
       "    </tr>\n",
       "    <tr>\n",
       "      <th>std</th>\n",
       "      <td>2.360509</td>\n",
       "      <td>3.215155</td>\n",
       "      <td>0.117201</td>\n",
       "      <td>0.387076</td>\n",
       "      <td>0.243737</td>\n",
       "      <td>27.731307</td>\n",
       "      <td>34.478489</td>\n",
       "      <td>32.555983</td>\n",
       "      <td>22.175772</td>\n",
       "      <td>33.350150</td>\n",
       "      <td>43.246484</td>\n",
       "      <td>43.246945</td>\n",
       "    </tr>\n",
       "    <tr>\n",
       "      <th>min</th>\n",
       "      <td>2.000000</td>\n",
       "      <td>2.572000</td>\n",
       "      <td>-1.922000</td>\n",
       "      <td>0.005500</td>\n",
       "      <td>1.686748</td>\n",
       "      <td>9.761296</td>\n",
       "      <td>52.374844</td>\n",
       "      <td>50.569458</td>\n",
       "      <td>0.387000</td>\n",
       "      <td>-11.700000</td>\n",
       "      <td>0.436022</td>\n",
       "      <td>0.436022</td>\n",
       "    </tr>\n",
       "    <tr>\n",
       "      <th>25%</th>\n",
       "      <td>3.000000</td>\n",
       "      <td>11.555000</td>\n",
       "      <td>0.012000</td>\n",
       "      <td>0.092530</td>\n",
       "      <td>2.234599</td>\n",
       "      <td>46.561230</td>\n",
       "      <td>65.297379</td>\n",
       "      <td>64.630869</td>\n",
       "      <td>1.333000</td>\n",
       "      <td>37.019001</td>\n",
       "      <td>1.303774</td>\n",
       "      <td>1.303774</td>\n",
       "    </tr>\n",
       "    <tr>\n",
       "      <th>50%</th>\n",
       "      <td>5.000000</td>\n",
       "      <td>13.365000</td>\n",
       "      <td>0.033000</td>\n",
       "      <td>0.170209</td>\n",
       "      <td>2.456227</td>\n",
       "      <td>74.999699</td>\n",
       "      <td>78.375046</td>\n",
       "      <td>77.486050</td>\n",
       "      <td>3.638064</td>\n",
       "      <td>69.777435</td>\n",
       "      <td>4.590000</td>\n",
       "      <td>4.590000</td>\n",
       "    </tr>\n",
       "    <tr>\n",
       "      <th>75%</th>\n",
       "      <td>5.000000</td>\n",
       "      <td>17.702999</td>\n",
       "      <td>0.066000</td>\n",
       "      <td>0.303012</td>\n",
       "      <td>2.593807</td>\n",
       "      <td>91.380281</td>\n",
       "      <td>120.307074</td>\n",
       "      <td>121.042843</td>\n",
       "      <td>8.585713</td>\n",
       "      <td>89.865021</td>\n",
       "      <td>10.385282</td>\n",
       "      <td>10.383564</td>\n",
       "    </tr>\n",
       "    <tr>\n",
       "      <th>max</th>\n",
       "      <td>19.000000</td>\n",
       "      <td>22.875999</td>\n",
       "      <td>0.758000</td>\n",
       "      <td>31.324650</td>\n",
       "      <td>2.868860</td>\n",
       "      <td>228.331558</td>\n",
       "      <td>173.731628</td>\n",
       "      <td>164.660461</td>\n",
       "      <td>2000.000000</td>\n",
       "      <td>142.412003</td>\n",
       "      <td>2000.000000</td>\n",
       "      <td>2000.000000</td>\n",
       "    </tr>\n",
       "  </tbody>\n",
       "</table>\n",
       "</div>"
      ],
      "text/plain": [
       "       LITHOLOGY_GEOLINK          CALI          DRHO          NPHI  \\\n",
       "count       21490.000000  26972.000000  26972.000000  20192.000000   \n",
       "mean            4.932387     14.125428      0.055093      0.203616   \n",
       "std             2.360509      3.215155      0.117201      0.387076   \n",
       "min             2.000000      2.572000     -1.922000      0.005500   \n",
       "25%             3.000000     11.555000      0.012000      0.092530   \n",
       "50%             5.000000     13.365000      0.033000      0.170209   \n",
       "75%             5.000000     17.702999      0.066000      0.303012   \n",
       "max            19.000000     22.875999      0.758000     31.324650   \n",
       "\n",
       "               RHOB            GR           DTC           DTE          RDEP  \\\n",
       "count  26939.000000  26972.000000  26842.000000  26842.000000  26972.000000   \n",
       "mean       2.393095     72.857688     93.154192     91.204834      6.051045   \n",
       "std        0.243737     27.731307     34.478489     32.555983     22.175772   \n",
       "min        1.686748      9.761296     52.374844     50.569458      0.387000   \n",
       "25%        2.234599     46.561230     65.297379     64.630869      1.333000   \n",
       "50%        2.456227     74.999699     78.375046     77.486050      3.638064   \n",
       "75%        2.593807     91.380281    120.307074    121.042843      8.585713   \n",
       "max        2.868860    228.331558    173.731628    164.660461   2000.000000   \n",
       "\n",
       "                 SP          RSHA          RMED  \n",
       "count  26971.000000  26972.000000  26972.000000  \n",
       "mean      67.537590      8.639019      8.639000  \n",
       "std       33.350150     43.246484     43.246945  \n",
       "min      -11.700000      0.436022      0.436022  \n",
       "25%       37.019001      1.303774      1.303774  \n",
       "50%       69.777435      4.590000      4.590000  \n",
       "75%       89.865021     10.385282     10.383564  \n",
       "max      142.412003   2000.000000   2000.000000  "
      ]
     },
     "execution_count": 4,
     "metadata": {},
     "output_type": "execute_result"
    }
   ],
   "source": [
    "df.describe()"
   ]
  },
  {
   "cell_type": "markdown",
   "metadata": {},
   "source": [
    "## Creating histograms Using PANDAS\n",
    "\n",
    "We can create a quick histogram simply using pandas without relying on other libraries."
   ]
  },
  {
   "cell_type": "code",
   "execution_count": 5,
   "metadata": {},
   "outputs": [
    {
     "data": {
      "image/png": "[encoded data removed]",
      "text/plain": [
       "<Figure size 432x288 with 1 Axes>"
      ]
     },
     "metadata": {
      "needs_background": "light"
     },
     "output_type": "display_data"
    }
   ],
   "source": [
    "df['GR'].plot(kind = 'hist')\n",
    "plt.show()"
   ]
  },
  {
   "cell_type": "markdown",
   "metadata": {},
   "source": [
    "## Creating Histograms Using Matplotlib\n",
    "\n",
    "We can create the same histogram using matplotlib."
   ]
  },
  {
   "cell_type": "code",
   "execution_count": 6,
   "metadata": {},
   "outputs": [
    {
     "data": {
      "image/png": "[encoded data removed]",
      "text/plain": [
       "<Figure size 432x288 with 1 Axes>"
      ]
     },
     "metadata": {
      "needs_background": "light"
     },
     "output_type": "display_data"
    }
   ],
   "source": [
    "plt.hist(df['GR'])\n",
    "plt.show()"
   ]
  },
  {
   "cell_type": "markdown",
   "metadata": {},
   "source": [
    "This is a minimalist plot. We can see that values range from around 0 to 150, with a very small piece of data at 250API. Each bin is around 25 API wide which is quite a large range. Lets change the plot a little to see more details."
   ]
  },
  {
   "cell_type": "code",
   "execution_count": 8,
   "metadata": {},
   "outputs": [
    {
     "data": {
      "image/png": "[encoded data removed]",
      "text/plain": [
       "<Figure size 432x288 with 1 Axes>"
      ]
     },
     "metadata": {
      "needs_background": "light"
     },
     "output_type": "display_data"
    }
   ],
   "source": [
    "plt.hist(df['GR'], bins =30)\n",
    "plt.show()"
   ]
  },
  {
   "cell_type": "markdown",
   "metadata": {},
   "source": [
    "Let make this plot clean visulaly by adding edge colors."
   ]
  },
  {
   "cell_type": "code",
   "execution_count": 9,
   "metadata": {},
   "outputs": [
    {
     "data": {
      "image/png": "[encoded data removed]",
      "text/plain": [
       "<Figure size 432x288 with 1 Axes>"
      ]
     },
     "metadata": {
      "needs_background": "light"
     },
     "output_type": "display_data"
    }
   ],
   "source": [
    "plt.hist(df['GR'], bins =30, edgecolor = 'black')\n",
    "plt.show()"
   ]
  },
  {
   "cell_type": "markdown",
   "metadata": {},
   "source": [
    "When we do this, we can see that the bins just below 100 API, is in fact two separate bins. To tidy the plot up further, we can assign both x and y label, and also set the x-axis limits."
   ]
  },
  {
   "cell_type": "code",
   "execution_count": 10,
   "metadata": {},
   "outputs": [
    {
     "data": {
      "image/png": "[encoded data removed]",
      "text/plain": [
       "<Figure size 432x288 with 1 Axes>"
      ]
     },
     "metadata": {
      "needs_background": "light"
     },
     "output_type": "display_data"
    }
   ],
   "source": [
    "plt.hist(df['GR'], bins =30, color='red', alpha=0.5, edgecolor='black')\n",
    "plt.xlabel(\"Gamma Ray - API\", fontsize=14)\n",
    "plt.ylabel(\"Frequency\", fontsize =14)\n",
    "plt.xlim(0,200)\n",
    "plt.show()"
   ]
  },
  {
   "cell_type": "markdown",
   "metadata": {},
   "source": [
    "In addition to the bars, we can also add in a kernel density estimation, which provides us with a line illustrating the distribution of the data."
   ]
  },
  {
   "cell_type": "code",
   "execution_count": 13,
   "metadata": {},
   "outputs": [
    {
     "data": {
      "text/plain": [
       "(0.0, 200.0)"
      ]
     },
     "execution_count": 13,
     "metadata": {},
     "output_type": "execute_result"
    },
    {
     "data": {
      "image/png": "[encoded data removed]",
      "text/plain": [
       "<Figure size 432x288 with 1 Axes>"
      ]
     },
     "metadata": {
      "needs_background": "light"
     },
     "output_type": "display_data"
    }
   ],
   "source": [
    "df['GR'].plot(kind='hist', bins =30,density=True, color='red', alpha=0.5, edgecolor='black')\n",
    "df['GR'].plot(kind='kde', color='black')\n",
    "plt.xlabel(\"Gamma Ray - API\", fontsize=14)\n",
    "plt.ylabel(\"Frequency\", fontsize =14)\n",
    "plt.xlim(0,200)\n"
   ]
  },
  {
   "cell_type": "markdown",
   "metadata": {},
   "source": [
    "When calculating clay and shale volumes we often use the percentiles as our interpretation parameters.\n",
    "\n",
    "These can be calculated using built-in pandas function mean() and quantile()."
   ]
  },
  {
   "cell_type": "code",
   "execution_count": 15,
   "metadata": {},
   "outputs": [
    {
     "name": "stdout",
     "output_type": "stream",
     "text": [
      "Mean: \t 72.8576877962189\n",
      "P05: \t 32.844083595149996\n",
      "P95: \t 119.31300354\n"
     ]
    }
   ],
   "source": [
    "mean = df['GR'].mean()\n",
    "p5 =df['GR'].quantile(0.05)\n",
    "p95=df['GR'].quantile(0.95)\n",
    "\n",
    "print(f'Mean: \\t {mean}')\n",
    "print(f'P05: \\t {p5}')\n",
    "print(f'P95: \\t {p95}')"
   ]
  },
  {
   "cell_type": "markdown",
   "metadata": {},
   "source": [
    "To get an idea of where these points fall in relation to our data, we can add them onto the plot using axvline and passing in the calculated variables, a colour and a label.\n"
   ]
  },
  {
   "cell_type": "code",
   "execution_count": 17,
   "metadata": {},
   "outputs": [
    {
     "data": {
      "image/png": "[encoded data removed]",
      "text/plain": [
       "<Figure size 432x288 with 1 Axes>"
      ]
     },
     "metadata": {
      "needs_background": "light"
     },
     "output_type": "display_data"
    }
   ],
   "source": [
    "df['GR'].plot(kind='hist', bins =30,density=True, color='red', alpha=0.5, edgecolor='black')\n",
    "plt.xlabel(\"Gamma Ray - API\", fontsize=14)\n",
    "plt.ylabel(\"Frequency\", fontsize =14)\n",
    "plt.xlim(0,200)\n",
    "\n",
    "plt.axvline(mean,color='blue', label='mean')\n",
    "plt.axvline(p5, color='green', label='5th Percentile')\n",
    "plt.axvline(p95, color='purple', label='95th Percentile')\n",
    "\n",
    "plt.legend()\n",
    "plt.show()"
   ]
  },
  {
   "cell_type": "markdown",
   "metadata": {},
   "source": [
    "## Summary\n",
    "We have seen how to create histograms to explore the well log data files (LAS) that can be used for publications.\n",
    "\n",
    "Author : Dilshad Raza\\\n",
    "Date Created: 07/14/2022"
   ]
  }
 ],
 "metadata": {
  "kernelspec": {
   "display_name": "Python 3.10.5 64-bit",
   "language": "python",
   "name": "python3"
  },
  "language_info": {
   "codemirror_mode": {
    "name": "ipython",
    "version": 3
   },
   "file_extension": ".py",
   "mimetype": "text/x-python",
   "name": "python",
   "nbconvert_exporter": "python",
   "pygments_lexer": "ipython3",
   "version": "3.10.5"
  },
  "orig_nbformat": 4,
  "vscode": {
   "interpreter": {
    "hash": "243456f4527cc2dd26a7b0db2d7f593392b55e517837c7eea3c1c2996538c2e6"
   }
  }
 },
 "nbformat": 4,
 "nbformat_minor": 2
}
