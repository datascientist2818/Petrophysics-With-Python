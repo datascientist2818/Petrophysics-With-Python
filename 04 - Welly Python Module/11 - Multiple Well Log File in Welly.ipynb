{
 "cells": [
  {
   "cell_type": "markdown",
   "metadata": {},
   "source": [
    "# Working with Multi[ple Well Log Files with Welly\n",
    "\n"
   ]
  },
  {
   "cell_type": "code",
   "execution_count": 17,
   "metadata": {},
   "outputs": [],
   "source": [
    "# importing modules\n",
    "from welly import Project\n",
    "import pandas as pd\n",
    "import matplotlib.pyplot as plt\n"
   ]
  },
  {
   "cell_type": "code",
   "execution_count": 31,
   "metadata": {},
   "outputs": [
    {
     "name": "stderr",
     "output_type": "stream",
     "text": [
      "4it [00:07,  1.99s/it]\n"
     ]
    }
   ],
   "source": [
    "# Loading well using Project\n",
    "wells = Project.from_las('../Data/inputs/WellyData/*.las')"
   ]
  },
  {
   "cell_type": "markdown",
   "metadata": {},
   "source": [
    "# Well Meta Data\n"
   ]
  },
  {
   "cell_type": "code",
   "execution_count": 32,
   "metadata": {},
   "outputs": [
    {
     "data": {
      "text/html": [
       "<table><tr><th>Index</th><th>UWI</th><th>Data</th><th>Curves</th></tr><tr><td>0</td><td><strong>L05-B-01</strong></td><td>5&nbsp;curves</td><td>GR, DT, RHOB, DRHO, NPHI</td></tr><tr><td>1</td><td><strong>L06-06</strong></td><td>5&nbsp;curves</td><td>GR, DT, RHOB, DRHO, NPHI</td></tr><tr><td>2</td><td><strong>L06-07</strong></td><td>5&nbsp;curves</td><td>GR, DT, RHOB, DRHO, NPHI</td></tr><tr><td>3</td><td><strong>L07-01</strong></td><td>4&nbsp;curves</td><td>GR, DT, RHOB, NPHI</td></tr></table>"
      ],
      "text/plain": [
       "Project(4 wells: L05-B-01, L06-06, L06-07, L07-01)"
      ]
     },
     "execution_count": 32,
     "metadata": {},
     "output_type": "execute_result"
    }
   ],
   "source": [
    "# viewing contents of wells\n",
    "wells"
   ]
  },
  {
   "cell_type": "code",
   "execution_count": 33,
   "metadata": {},
   "outputs": [
    {
     "data": {
      "text/plain": [
       "['L05-B-01', 'L06-06', 'L06-07', 'L07-01']"
      ]
     },
     "execution_count": 33,
     "metadata": {},
     "output_type": "execute_result"
    }
   ],
   "source": [
    "# Calling UWIs\n",
    "wells.uwis"
   ]
  },
  {
   "cell_type": "code",
   "execution_count": 34,
   "metadata": {},
   "outputs": [
    {
     "name": "stdout",
     "output_type": "stream",
     "text": [
      "Well(uwi: 'L05-B-01', name: 'L05-B-01', 5 curves: ['GR', 'DT', 'RHOB', 'DRHO', 'NPHI'])\n",
      "Well(uwi: 'L06-06', name: 'L06-06', 5 curves: ['GR', 'DT', 'RHOB', 'DRHO', 'NPHI'])\n",
      "Well(uwi: 'L06-07', name: 'L06-07', 5 curves: ['GR', 'DT', 'RHOB', 'DRHO', 'NPHI'])\n",
      "Well(uwi: 'L07-01', name: 'L07-01', 4 curves: ['GR', 'DT', 'RHOB', 'NPHI'])\n"
     ]
    }
   ],
   "source": [
    "# print individual well details\n",
    "for well in wells:\n",
    "    print(well)"
   ]
  },
  {
   "cell_type": "code",
   "execution_count": 40,
   "metadata": {},
   "outputs": [
    {
     "name": "stdout",
     "output_type": "stream",
     "text": [
      "L05-B-01   53.705031           4.603479\n",
      "L06-06     53.808408           4.672192\n",
      "L06-07     53.706549           4.898703\n",
      "L07-01     53.722768           4.796468\n"
     ]
    }
   ],
   "source": [
    "# print well name and location\n",
    "\n",
    "for well in wells:\n",
    "    print(f'{well.uwi} \\t {well.location.latitude} \\t {well.location.longitude}'.expandtabs(10))"
   ]
  },
  {
   "cell_type": "code",
   "execution_count": 44,
   "metadata": {},
   "outputs": [],
   "source": [
    "# Create dataframe of well header information\n",
    "\n",
    "well_dict = {}\n",
    "for well in wells:\n",
    "    well_dict[well.uwi] = {'well name' : well.uwi,\n",
    "                           'Longitude' : well.location.longitude,\n",
    "                           'Latitude' : well.location.latitude}\n",
    "    \n",
    "wells_df = pd.DataFrame.from_dict(well_dict, orient='index')\n",
    "wells_df.reset_index(inplace=True)\n",
    "wells_df.rename(columns={'index' : 'UWI'}, inplace=True)"
   ]
  },
  {
   "cell_type": "code",
   "execution_count": 45,
   "metadata": {},
   "outputs": [
    {
     "data": {
      "text/html": [
       "<div>\n",
       "<style scoped>\n",
       "    .dataframe tbody tr th:only-of-type {\n",
       "        vertical-align: middle;\n",
       "    }\n",
       "\n",
       "    .dataframe tbody tr th {\n",
       "        vertical-align: top;\n",
       "    }\n",
       "\n",
       "    .dataframe thead th {\n",
       "        text-align: right;\n",
       "    }\n",
       "</style>\n",
       "<table border=\"1\" class=\"dataframe\">\n",
       "  <thead>\n",
       "    <tr style=\"text-align: right;\">\n",
       "      <th></th>\n",
       "      <th>UWI</th>\n",
       "      <th>well name</th>\n",
       "      <th>Longitude</th>\n",
       "      <th>Latitude</th>\n",
       "    </tr>\n",
       "  </thead>\n",
       "  <tbody>\n",
       "    <tr>\n",
       "      <th>0</th>\n",
       "      <td>L05-B-01</td>\n",
       "      <td>L05-B-01</td>\n",
       "      <td>4.603479</td>\n",
       "      <td>53.705031</td>\n",
       "    </tr>\n",
       "    <tr>\n",
       "      <th>1</th>\n",
       "      <td>L06-06</td>\n",
       "      <td>L06-06</td>\n",
       "      <td>4.672192</td>\n",
       "      <td>53.808408</td>\n",
       "    </tr>\n",
       "    <tr>\n",
       "      <th>2</th>\n",
       "      <td>L06-07</td>\n",
       "      <td>L06-07</td>\n",
       "      <td>4.898703</td>\n",
       "      <td>53.706549</td>\n",
       "    </tr>\n",
       "    <tr>\n",
       "      <th>3</th>\n",
       "      <td>L07-01</td>\n",
       "      <td>L07-01</td>\n",
       "      <td>4.796468</td>\n",
       "      <td>53.722768</td>\n",
       "    </tr>\n",
       "  </tbody>\n",
       "</table>\n",
       "</div>"
      ],
      "text/plain": [
       "        UWI well name  Longitude   Latitude\n",
       "0  L05-B-01  L05-B-01   4.603479  53.705031\n",
       "1    L06-06    L06-06   4.672192  53.808408\n",
       "2    L06-07    L06-07   4.898703  53.706549\n",
       "3    L07-01    L07-01   4.796468  53.722768"
      ]
     },
     "execution_count": 45,
     "metadata": {},
     "output_type": "execute_result"
    }
   ],
   "source": [
    "wells_df"
   ]
  },
  {
   "cell_type": "markdown",
   "metadata": {},
   "source": [
    "# **Mapping the Well Locations**\n"
   ]
  },
  {
   "cell_type": "code",
   "execution_count": 46,
   "metadata": {},
   "outputs": [],
   "source": [
    "import folium"
   ]
  },
  {
   "cell_type": "code",
   "execution_count": 48,
   "metadata": {},
   "outputs": [
    {
     "data": {
      "text/html": [
       "<div style=\"width:100%;\"><div style=\"position:relative;width:100%;height:0;padding-bottom:60%;\"><span style=\"color:#565656\">Make this Notebook Trusted to load map: File -> Trust Notebook</span><iframe srcdoc=\"&lt;!DOCTYPE html&gt;\n",
       "&lt;head&gt;    \n",
       "    &lt;meta http-equiv=&quot;content-type&quot; content=&quot;text/html; charset=UTF-8&quot; /&gt;\n",
       "    \n",
       "        &lt;script&gt;\n",
       "            L_NO_TOUCH = false;\n",
       "            L_DISABLE_3D = false;\n",
       "        &lt;/script&gt;\n",
       "    \n",
       "    &lt;style&gt;html, body {width: 100%;height: 100%;margin: 0;padding: 0;}&lt;/style&gt;\n",
       "    &lt;style&gt;#map {position:absolute;top:0;bottom:0;right:0;left:0;}&lt;/style&gt;\n",
       "    &lt;script src=&quot;https://cdn.jsdelivr.net/npm/leaflet@1.6.0/dist/leaflet.js&quot;&gt;&lt;/script&gt;\n",
       "    &lt;script src=&quot;https://code.jquery.com/jquery-1.12.4.min.js&quot;&gt;&lt;/script&gt;\n",
       "    &lt;script src=&quot;https://maxcdn.bootstrapcdn.com/bootstrap/3.2.0/js/bootstrap.min.js&quot;&gt;&lt;/script&gt;\n",
       "    &lt;script src=&quot;https://cdnjs.cloudflare.com/ajax/libs/Leaflet.awesome-markers/2.0.2/leaflet.awesome-markers.js&quot;&gt;&lt;/script&gt;\n",
       "    &lt;link rel=&quot;stylesheet&quot; href=&quot;https://cdn.jsdelivr.net/npm/leaflet@1.6.0/dist/leaflet.css&quot;/&gt;\n",
       "    &lt;link rel=&quot;stylesheet&quot; href=&quot;https://maxcdn.bootstrapcdn.com/bootstrap/3.2.0/css/bootstrap.min.css&quot;/&gt;\n",
       "    &lt;link rel=&quot;stylesheet&quot; href=&quot;https://maxcdn.bootstrapcdn.com/bootstrap/3.2.0/css/bootstrap-theme.min.css&quot;/&gt;\n",
       "    &lt;link rel=&quot;stylesheet&quot; href=&quot;https://maxcdn.bootstrapcdn.com/font-awesome/4.6.3/css/font-awesome.min.css&quot;/&gt;\n",
       "    &lt;link rel=&quot;stylesheet&quot; href=&quot;https://cdnjs.cloudflare.com/ajax/libs/Leaflet.awesome-markers/2.0.2/leaflet.awesome-markers.css&quot;/&gt;\n",
       "    &lt;link rel=&quot;stylesheet&quot; href=&quot;https://cdn.jsdelivr.net/gh/python-visualization/folium/folium/templates/leaflet.awesome.rotate.min.css&quot;/&gt;\n",
       "    \n",
       "            &lt;meta name=&quot;viewport&quot; content=&quot;width=device-width,\n",
       "                initial-scale=1.0, maximum-scale=1.0, user-scalable=no&quot; /&gt;\n",
       "            &lt;style&gt;\n",
       "                #map_316adc8b840a747ede6d53daff15540d {\n",
       "                    position: relative;\n",
       "                    width: 100.0%;\n",
       "                    height: 100.0%;\n",
       "                    left: 0.0%;\n",
       "                    top: 0.0%;\n",
       "                }\n",
       "            &lt;/style&gt;\n",
       "        \n",
       "&lt;/head&gt;\n",
       "&lt;body&gt;    \n",
       "    \n",
       "            &lt;div class=&quot;folium-map&quot; id=&quot;map_316adc8b840a747ede6d53daff15540d&quot; &gt;&lt;/div&gt;\n",
       "        \n",
       "&lt;/body&gt;\n",
       "&lt;script&gt;    \n",
       "    \n",
       "            var map_316adc8b840a747ede6d53daff15540d = L.map(\n",
       "                &quot;map_316adc8b840a747ede6d53daff15540d&quot;,\n",
       "                {\n",
       "                    center: [53.735689, 4.7427105],\n",
       "                    crs: L.CRS.EPSG3857,\n",
       "                    zoom: 7,\n",
       "                    zoomControl: true,\n",
       "                    preferCanvas: false,\n",
       "                }\n",
       "            );\n",
       "\n",
       "            \n",
       "\n",
       "        \n",
       "    \n",
       "            var tile_layer_bce8984ce4c2b40c4c3f3cd4494cea2f = L.tileLayer(\n",
       "                &quot;https://{s}.tile.openstreetmap.org/{z}/{x}/{y}.png&quot;,\n",
       "                {&quot;attribution&quot;: &quot;Data by \\u0026copy; \\u003ca href=\\&quot;http://openstreetmap.org\\&quot;\\u003eOpenStreetMap\\u003c/a\\u003e, under \\u003ca href=\\&quot;http://www.openstreetmap.org/copyright\\&quot;\\u003eODbL\\u003c/a\\u003e.&quot;, &quot;detectRetina&quot;: false, &quot;maxNativeZoom&quot;: 18, &quot;maxZoom&quot;: 18, &quot;minZoom&quot;: 0, &quot;noWrap&quot;: false, &quot;opacity&quot;: 1, &quot;subdomains&quot;: &quot;abc&quot;, &quot;tms&quot;: false}\n",
       "            ).addTo(map_316adc8b840a747ede6d53daff15540d);\n",
       "        \n",
       "    \n",
       "            var marker_0e91b5a3edd755d8c7db2413eea40ac5 = L.marker(\n",
       "                [53.705031, 4.603479],\n",
       "                {}\n",
       "            ).addTo(map_316adc8b840a747ede6d53daff15540d);\n",
       "        \n",
       "    \n",
       "        var popup_b74d3a68999ef5738a934443c9662fd2 = L.popup({&quot;maxWidth&quot;: &quot;100%&quot;});\n",
       "\n",
       "        \n",
       "            var html_f5ae87de0539efc7a3d10a01ff38b0e5 = $(`&lt;div id=&quot;html_f5ae87de0539efc7a3d10a01ff38b0e5&quot; style=&quot;width: 100.0%; height: 100.0%;&quot;&gt;L05-B-01&lt;/div&gt;`)[0];\n",
       "            popup_b74d3a68999ef5738a934443c9662fd2.setContent(html_f5ae87de0539efc7a3d10a01ff38b0e5);\n",
       "        \n",
       "\n",
       "        marker_0e91b5a3edd755d8c7db2413eea40ac5.bindPopup(popup_b74d3a68999ef5738a934443c9662fd2)\n",
       "        ;\n",
       "\n",
       "        \n",
       "    \n",
       "    \n",
       "            var marker_3aa4b1c91a5d799debb7f3477e8407f8 = L.marker(\n",
       "                [53.808408, 4.672192],\n",
       "                {}\n",
       "            ).addTo(map_316adc8b840a747ede6d53daff15540d);\n",
       "        \n",
       "    \n",
       "        var popup_7d8fa1d2527883021baf6de5f07cd6dc = L.popup({&quot;maxWidth&quot;: &quot;100%&quot;});\n",
       "\n",
       "        \n",
       "            var html_47055579e917c01cd59a8f1ad0d6d8a7 = $(`&lt;div id=&quot;html_47055579e917c01cd59a8f1ad0d6d8a7&quot; style=&quot;width: 100.0%; height: 100.0%;&quot;&gt;L06-06&lt;/div&gt;`)[0];\n",
       "            popup_7d8fa1d2527883021baf6de5f07cd6dc.setContent(html_47055579e917c01cd59a8f1ad0d6d8a7);\n",
       "        \n",
       "\n",
       "        marker_3aa4b1c91a5d799debb7f3477e8407f8.bindPopup(popup_7d8fa1d2527883021baf6de5f07cd6dc)\n",
       "        ;\n",
       "\n",
       "        \n",
       "    \n",
       "    \n",
       "            var marker_cad90324448f2f32015125791a3ea58d = L.marker(\n",
       "                [53.706549, 4.898703],\n",
       "                {}\n",
       "            ).addTo(map_316adc8b840a747ede6d53daff15540d);\n",
       "        \n",
       "    \n",
       "        var popup_82b3c9533b8aa8742e24b1f1b1c47086 = L.popup({&quot;maxWidth&quot;: &quot;100%&quot;});\n",
       "\n",
       "        \n",
       "            var html_f7e20e11887a0644e6aed3eb63e1ad7b = $(`&lt;div id=&quot;html_f7e20e11887a0644e6aed3eb63e1ad7b&quot; style=&quot;width: 100.0%; height: 100.0%;&quot;&gt;L06-07&lt;/div&gt;`)[0];\n",
       "            popup_82b3c9533b8aa8742e24b1f1b1c47086.setContent(html_f7e20e11887a0644e6aed3eb63e1ad7b);\n",
       "        \n",
       "\n",
       "        marker_cad90324448f2f32015125791a3ea58d.bindPopup(popup_82b3c9533b8aa8742e24b1f1b1c47086)\n",
       "        ;\n",
       "\n",
       "        \n",
       "    \n",
       "    \n",
       "            var marker_193dc7db6f862e877057a33fb3a5d35e = L.marker(\n",
       "                [53.722768, 4.796468],\n",
       "                {}\n",
       "            ).addTo(map_316adc8b840a747ede6d53daff15540d);\n",
       "        \n",
       "    \n",
       "        var popup_46419daf79ab54b724f04a8a992053e7 = L.popup({&quot;maxWidth&quot;: &quot;100%&quot;});\n",
       "\n",
       "        \n",
       "            var html_801147cd1a78dea7b4cf584561382ae6 = $(`&lt;div id=&quot;html_801147cd1a78dea7b4cf584561382ae6&quot; style=&quot;width: 100.0%; height: 100.0%;&quot;&gt;L07-01&lt;/div&gt;`)[0];\n",
       "            popup_46419daf79ab54b724f04a8a992053e7.setContent(html_801147cd1a78dea7b4cf584561382ae6);\n",
       "        \n",
       "\n",
       "        marker_193dc7db6f862e877057a33fb3a5d35e.bindPopup(popup_46419daf79ab54b724f04a8a992053e7)\n",
       "        ;\n",
       "\n",
       "        \n",
       "    \n",
       "&lt;/script&gt;\" style=\"position:absolute;width:100%;height:100%;left:0;top:0;border:none !important;\" allowfullscreen webkitallowfullscreen mozallowfullscreen></iframe></div></div>"
      ],
      "text/plain": [
       "<folium.folium.Map at 0x23a6eb360e0>"
      ]
     },
     "execution_count": 48,
     "metadata": {},
     "output_type": "execute_result"
    }
   ],
   "source": [
    "# calling map\n",
    "mean_lat = wells_df['Latitude'].mean()\n",
    "mean_long = wells_df['Longitude'].mean()\n",
    "m = folium.Map(location=[mean_lat,mean_long], zoom_start=7)\n",
    "#adding markers\n",
    "\n",
    "for index,well_location in wells_df.iterrows():\n",
    "    folium.Marker([well_location['Latitude'], well_location['Longitude']],\n",
    "                  popup=well_location['well name']).add_to(m)\n",
    "m\n"
   ]
  },
  {
   "cell_type": "markdown",
   "metadata": {},
   "source": [
    "# Plotting Curves from Multiple Wells"
   ]
  },
  {
   "cell_type": "code",
   "execution_count": 51,
   "metadata": {},
   "outputs": [
    {
     "data": {
      "image/png": "[encoded data removed]",
      "text/plain": [
       "<Figure size 1008x720 with 4 Axes>"
      ]
     },
     "metadata": {
      "needs_background": "light"
     },
     "output_type": "display_data"
    }
   ],
   "source": [
    "# plot GR from all wells\n",
    "\n",
    "fig,axs = plt.subplots(figsize=(14,10), ncols=len(wells))\n",
    "\n",
    "for (ax,well) in zip(axs,wells):\n",
    "    gr = well.get_curve('GR')\n",
    "    if gr is not None:\n",
    "        ax=gr.plot(ax=ax, c='red')\n",
    "    ax.set_title(f'GR for\\n{well.uwi}')\n",
    "    \n",
    "plt.tight_layout()\n",
    "plt.show()"
   ]
  },
  {
   "cell_type": "code",
   "execution_count": 52,
   "metadata": {},
   "outputs": [
    {
     "data": {
      "image/png": "[encoded data removed]",
      "text/plain": [
       "<Figure size 1008x720 with 4 Axes>"
      ]
     },
     "metadata": {
      "needs_background": "light"
     },
     "output_type": "display_data"
    }
   ],
   "source": [
    "# plot GR from all wells\n",
    "\n",
    "fig,axs = plt.subplots(figsize=(14,10), ncols=len(wells))\n",
    "curve_name='RHOB'\n",
    "\n",
    "for (ax,well) in zip(axs,wells):\n",
    "    rhob = well.get_curve(curve_name)\n",
    "    if rhob is not None:\n",
    "        ax=rhob.plot(ax=ax, c='blue')\n",
    "    ax.set_title(f'{curve_name} for\\n{well.uwi}')\n",
    "    \n",
    "plt.tight_layout()\n",
    "plt.show()"
   ]
  },
  {
   "cell_type": "markdown",
   "metadata": {},
   "source": [
    "# Multiple Well Log Data Quality"
   ]
  },
  {
   "cell_type": "code",
   "execution_count": 53,
   "metadata": {},
   "outputs": [],
   "source": [
    "import welly.quality as wq\n",
    "from IPython.display import HTML"
   ]
  },
  {
   "cell_type": "code",
   "execution_count": 54,
   "metadata": {},
   "outputs": [],
   "source": [
    "tests= {'Each': [wq.no_flat,\n",
    "                 wq.no_gaps,\n",
    "                 wq.not_empty],\n",
    "        'GR': [wq.all_positive,\n",
    "               wq.all_between(0,250),\n",
    "               wq.check_units(['API','GAPI']),\n",
    "               ],\n",
    "        'RHOB': [\n",
    "            wq.all_positive,\n",
    "            wq.all_between(1.5,3),\n",
    "            wq.check_units(['G/CC', 'g/cm3'])\n",
    "        ]}"
   ]
  },
  {
   "cell_type": "code",
   "execution_count": 55,
   "metadata": {},
   "outputs": [
    {
     "data": {
      "text/html": [
       "<table><tr><th>Idx</th><th>UWI</th><th>Data</th><th>Passing</th><th>GR</th><th>RHOB</th></tr><tr><td></td><td></td><td></td><td>%</td><td>4/4&nbsp;wells</td><td>4/4&nbsp;wells</td></tr><tr><td>0</td><td><span style=\"font-weight:bold;\">L05-B-01</span></td><td>2/5&nbsp;curves</td><td>92</td><td style=\"background-color:#CCEECC; line-height:80%; padding:5px 4px 2px 4px;\">GR<div title=\"6/6\" style=\"font-size:80%; float:right; cursor: default; padding:4px 0px 4px 6px; color:#33EE33;\">&#x2b24;</div><br /><span style=\"font-size:70%; color:#33AA33\">36.02 GAPI</span></td><td style=\"background-color:#CCEECC; line-height:80%; padding:5px 4px 2px 4px;\">RHOB<div title=\"5/6\" style=\"font-size:80%; float:right; cursor: default; padding:4px 0px 4px 6px; color:#FFCC33;\">&#x2b24;</div><br /><span style=\"font-size:70%; color:#33AA33\">2.56 G/C3</span></td></tr><tr><td>1</td><td><span style=\"font-weight:bold;\">L06-06</span></td><td>2/5&nbsp;curves</td><td>58</td><td style=\"background-color:#CCEECC; line-height:80%; padding:5px 4px 2px 4px;\">GR<div title=\"4/6\" style=\"font-size:80%; float:right; cursor: default; padding:4px 0px 4px 6px; color:#FFCC33;\">&#x2b24;</div><br /><span style=\"font-size:70%; color:#33AA33\">43.65 GAPI</span></td><td style=\"background-color:#CCEECC; line-height:80%; padding:5px 4px 2px 4px;\">RHOB<div title=\"3/6\" style=\"font-size:80%; float:right; cursor: default; padding:4px 0px 4px 6px; color:#FFCC33;\">&#x2b24;</div><br /><span style=\"font-size:70%; color:#33AA33\">2.52 G/C3</span></td></tr><tr><td>2</td><td><span style=\"font-weight:bold;\">L06-07</span></td><td>2/5&nbsp;curves</td><td>83</td><td style=\"background-color:#CCEECC; line-height:80%; padding:5px 4px 2px 4px;\">GR<div title=\"6/6\" style=\"font-size:80%; float:right; cursor: default; padding:4px 0px 4px 6px; color:#33EE33;\">&#x2b24;</div><br /><span style=\"font-size:70%; color:#33AA33\">28.73 GAPI</span></td><td style=\"background-color:#CCEECC; line-height:80%; padding:5px 4px 2px 4px;\">RHOB<div title=\"4/6\" style=\"font-size:80%; float:right; cursor: default; padding:4px 0px 4px 6px; color:#FFCC33;\">&#x2b24;</div><br /><span style=\"font-size:70%; color:#33AA33\">2.62 G/C3</span></td></tr><tr><td>3</td><td><span style=\"font-weight:bold;\">L07-01</span></td><td>2/4&nbsp;curves</td><td>83</td><td style=\"background-color:#CCEECC; line-height:80%; padding:5px 4px 2px 4px;\">GR<div title=\"5/6\" style=\"font-size:80%; float:right; cursor: default; padding:4px 0px 4px 6px; color:#FFCC33;\">&#x2b24;</div><br /><span style=\"font-size:70%; color:#33AA33\">46.86 GAPI</span></td><td style=\"background-color:#CCEECC; line-height:80%; padding:5px 4px 2px 4px;\">RHOB<div title=\"5/6\" style=\"font-size:80%; float:right; cursor: default; padding:4px 0px 4px 6px; color:#FFCC33;\">&#x2b24;</div><br /><span style=\"font-size:70%; color:#33AA33\">2.61 G/C3</span></td></tr></table>"
      ],
      "text/plain": [
       "<IPython.core.display.HTML object>"
      ]
     },
     "execution_count": 55,
     "metadata": {},
     "output_type": "execute_result"
    }
   ],
   "source": [
    "data_qc_table = wells.curve_table_html(keys=['GR', 'RHOB'], tests=tests)\n",
    "HTML(data_qc_table)"
   ]
  },
  {
   "cell_type": "code",
   "execution_count": 56,
   "metadata": {},
   "outputs": [],
   "source": [
    "qc_dict = {}\n",
    "for well in wells:\n",
    "    qc_dict[well.uwi] = well.qc_table_html(tests)"
   ]
  },
  {
   "cell_type": "code",
   "execution_count": 57,
   "metadata": {},
   "outputs": [
    {
     "data": {
      "text/html": [
       "<table><tr><th>Curve</th><th>Passed</th><th>Score</th><th>no_gaps</th><th>all_between</th><th>no_flat</th><th>check_units</th><th>all_positive</th><th>not_empty</th></tr><tr><th>GR</th><td>5 / 6</td><td>0.833</td><td style=\"background-color:#FFCCCC;\">False</td><td style=\"background-color:#CCEECC;\">True</td><td style=\"background-color:#CCEECC;\">True</td><td style=\"background-color:#CCEECC;\">True</td><td style=\"background-color:#CCEECC;\">True</td><td style=\"background-color:#CCEECC;\">True</td></tr><tr><th>DT</th><td>2 / 3</td><td>0.667</td><td style=\"background-color:#FFCCCC;\">False</td><td style=\"background-color:#EEEEEE;\"></td><td style=\"background-color:#CCEECC;\">True</td><td style=\"background-color:#EEEEEE;\"></td><td style=\"background-color:#EEEEEE;\"></td><td style=\"background-color:#CCEECC;\">True</td></tr><tr><th>RHOB</th><td>5 / 6</td><td>0.833</td><td style=\"background-color:#CCEECC;\">True</td><td style=\"background-color:#CCEECC;\">True</td><td style=\"background-color:#CCEECC;\">True</td><td style=\"background-color:#FFCCCC;\">False</td><td style=\"background-color:#CCEECC;\">True</td><td style=\"background-color:#CCEECC;\">True</td></tr><tr><th>NPHI</th><td>3 / 3</td><td>1.000</td><td style=\"background-color:#CCEECC;\">True</td><td style=\"background-color:#EEEEEE;\"></td><td style=\"background-color:#CCEECC;\">True</td><td style=\"background-color:#EEEEEE;\"></td><td style=\"background-color:#EEEEEE;\"></td><td style=\"background-color:#CCEECC;\">True</td></tr></table>"
      ],
      "text/plain": [
       "<IPython.core.display.HTML object>"
      ]
     },
     "execution_count": 57,
     "metadata": {},
     "output_type": "execute_result"
    }
   ],
   "source": [
    "# checking test per well\n",
    "HTML(qc_dict['L07-01'])"
   ]
  },
  {
   "cell_type": "code",
   "execution_count": 58,
   "metadata": {},
   "outputs": [
    {
     "data": {
      "text/html": [
       "<table><tr><th>Curve</th><th>Passed</th><th>Score</th><th>no_gaps</th><th>all_between</th><th>no_flat</th><th>check_units</th><th>all_positive</th><th>not_empty</th></tr><tr><th>GR</th><td>4 / 6</td><td>0.667</td><td style=\"background-color:#FFCCCC;\">False</td><td style=\"background-color:#FFCCCC;\">False</td><td style=\"background-color:#CCEECC;\">True</td><td style=\"background-color:#CCEECC;\">True</td><td style=\"background-color:#CCEECC;\">True</td><td style=\"background-color:#CCEECC;\">True</td></tr><tr><th>DT</th><td>2 / 3</td><td>0.667</td><td style=\"background-color:#FFCCCC;\">False</td><td style=\"background-color:#EEEEEE;\"></td><td style=\"background-color:#CCEECC;\">True</td><td style=\"background-color:#EEEEEE;\"></td><td style=\"background-color:#EEEEEE;\"></td><td style=\"background-color:#CCEECC;\">True</td></tr><tr><th>RHOB</th><td>3 / 6</td><td>0.500</td><td style=\"background-color:#FFCCCC;\">False</td><td style=\"background-color:#FFCCCC;\">False</td><td style=\"background-color:#CCEECC;\">True</td><td style=\"background-color:#FFCCCC;\">False</td><td style=\"background-color:#CCEECC;\">True</td><td style=\"background-color:#CCEECC;\">True</td></tr><tr><th>DRHO</th><td>2 / 3</td><td>0.667</td><td style=\"background-color:#FFCCCC;\">False</td><td style=\"background-color:#EEEEEE;\"></td><td style=\"background-color:#CCEECC;\">True</td><td style=\"background-color:#EEEEEE;\"></td><td style=\"background-color:#EEEEEE;\"></td><td style=\"background-color:#CCEECC;\">True</td></tr><tr><th>NPHI</th><td>2 / 3</td><td>0.667</td><td style=\"background-color:#FFCCCC;\">False</td><td style=\"background-color:#EEEEEE;\"></td><td style=\"background-color:#CCEECC;\">True</td><td style=\"background-color:#EEEEEE;\"></td><td style=\"background-color:#EEEEEE;\"></td><td style=\"background-color:#CCEECC;\">True</td></tr></table>"
      ],
      "text/plain": [
       "<IPython.core.display.HTML object>"
      ]
     },
     "execution_count": 58,
     "metadata": {},
     "output_type": "execute_result"
    }
   ],
   "source": [
    "HTML(qc_dict['L06-06'])"
   ]
  },
  {
   "cell_type": "markdown",
   "metadata": {},
   "source": [
    "# Well Data to Dataframe"
   ]
  },
  {
   "cell_type": "code",
   "execution_count": 59,
   "metadata": {},
   "outputs": [],
   "source": [
    "df = wells.df()"
   ]
  },
  {
   "cell_type": "code",
   "execution_count": 60,
   "metadata": {},
   "outputs": [
    {
     "data": {
      "text/html": [
       "<div>\n",
       "<style scoped>\n",
       "    .dataframe tbody tr th:only-of-type {\n",
       "        vertical-align: middle;\n",
       "    }\n",
       "\n",
       "    .dataframe tbody tr th {\n",
       "        vertical-align: top;\n",
       "    }\n",
       "\n",
       "    .dataframe thead th {\n",
       "        text-align: right;\n",
       "    }\n",
       "</style>\n",
       "<table border=\"1\" class=\"dataframe\">\n",
       "  <thead>\n",
       "    <tr style=\"text-align: right;\">\n",
       "      <th></th>\n",
       "      <th></th>\n",
       "      <th>GR</th>\n",
       "      <th>DT</th>\n",
       "      <th>RHOB</th>\n",
       "      <th>DRHO</th>\n",
       "      <th>NPHI</th>\n",
       "    </tr>\n",
       "    <tr>\n",
       "      <th>UWI</th>\n",
       "      <th>DEPT</th>\n",
       "      <th></th>\n",
       "      <th></th>\n",
       "      <th></th>\n",
       "      <th></th>\n",
       "      <th></th>\n",
       "    </tr>\n",
       "  </thead>\n",
       "  <tbody>\n",
       "    <tr>\n",
       "      <th rowspan=\"5\" valign=\"top\">L05-B-01</th>\n",
       "      <th>81.0</th>\n",
       "      <td>NaN</td>\n",
       "      <td>NaN</td>\n",
       "      <td>NaN</td>\n",
       "      <td>NaN</td>\n",
       "      <td>NaN</td>\n",
       "    </tr>\n",
       "    <tr>\n",
       "      <th>82.0</th>\n",
       "      <td>NaN</td>\n",
       "      <td>NaN</td>\n",
       "      <td>NaN</td>\n",
       "      <td>NaN</td>\n",
       "      <td>NaN</td>\n",
       "    </tr>\n",
       "    <tr>\n",
       "      <th>83.0</th>\n",
       "      <td>23.235703</td>\n",
       "      <td>NaN</td>\n",
       "      <td>NaN</td>\n",
       "      <td>NaN</td>\n",
       "      <td>NaN</td>\n",
       "    </tr>\n",
       "    <tr>\n",
       "      <th>84.0</th>\n",
       "      <td>22.028881</td>\n",
       "      <td>NaN</td>\n",
       "      <td>NaN</td>\n",
       "      <td>NaN</td>\n",
       "      <td>NaN</td>\n",
       "    </tr>\n",
       "    <tr>\n",
       "      <th>85.0</th>\n",
       "      <td>24.331657</td>\n",
       "      <td>NaN</td>\n",
       "      <td>NaN</td>\n",
       "      <td>NaN</td>\n",
       "      <td>NaN</td>\n",
       "    </tr>\n",
       "    <tr>\n",
       "      <th>...</th>\n",
       "      <th>...</th>\n",
       "      <td>...</td>\n",
       "      <td>...</td>\n",
       "      <td>...</td>\n",
       "      <td>...</td>\n",
       "      <td>...</td>\n",
       "    </tr>\n",
       "    <tr>\n",
       "      <th rowspan=\"5\" valign=\"top\">L07-01</th>\n",
       "      <th>68.9</th>\n",
       "      <td>NaN</td>\n",
       "      <td>NaN</td>\n",
       "      <td>NaN</td>\n",
       "      <td>NaN</td>\n",
       "      <td>NaN</td>\n",
       "    </tr>\n",
       "    <tr>\n",
       "      <th>67.9</th>\n",
       "      <td>NaN</td>\n",
       "      <td>NaN</td>\n",
       "      <td>NaN</td>\n",
       "      <td>NaN</td>\n",
       "      <td>NaN</td>\n",
       "    </tr>\n",
       "    <tr>\n",
       "      <th>66.9</th>\n",
       "      <td>NaN</td>\n",
       "      <td>NaN</td>\n",
       "      <td>NaN</td>\n",
       "      <td>NaN</td>\n",
       "      <td>NaN</td>\n",
       "    </tr>\n",
       "    <tr>\n",
       "      <th>65.9</th>\n",
       "      <td>NaN</td>\n",
       "      <td>NaN</td>\n",
       "      <td>NaN</td>\n",
       "      <td>NaN</td>\n",
       "      <td>NaN</td>\n",
       "    </tr>\n",
       "    <tr>\n",
       "      <th>64.9</th>\n",
       "      <td>NaN</td>\n",
       "      <td>NaN</td>\n",
       "      <td>NaN</td>\n",
       "      <td>NaN</td>\n",
       "      <td>NaN</td>\n",
       "    </tr>\n",
       "  </tbody>\n",
       "</table>\n",
       "<p>19090 rows × 5 columns</p>\n",
       "</div>"
      ],
      "text/plain": [
       "                      GR  DT  RHOB  DRHO  NPHI\n",
       "UWI      DEPT                                 \n",
       "L05-B-01 81.0        NaN NaN   NaN   NaN   NaN\n",
       "         82.0        NaN NaN   NaN   NaN   NaN\n",
       "         83.0  23.235703 NaN   NaN   NaN   NaN\n",
       "         84.0  22.028881 NaN   NaN   NaN   NaN\n",
       "         85.0  24.331657 NaN   NaN   NaN   NaN\n",
       "...                  ...  ..   ...   ...   ...\n",
       "L07-01   68.9        NaN NaN   NaN   NaN   NaN\n",
       "         67.9        NaN NaN   NaN   NaN   NaN\n",
       "         66.9        NaN NaN   NaN   NaN   NaN\n",
       "         65.9        NaN NaN   NaN   NaN   NaN\n",
       "         64.9        NaN NaN   NaN   NaN   NaN\n",
       "\n",
       "[19090 rows x 5 columns]"
      ]
     },
     "execution_count": 60,
     "metadata": {},
     "output_type": "execute_result"
    }
   ],
   "source": [
    "df"
   ]
  },
  {
   "cell_type": "code",
   "execution_count": 61,
   "metadata": {},
   "outputs": [
    {
     "data": {
      "text/html": [
       "<div>\n",
       "<style scoped>\n",
       "    .dataframe tbody tr th:only-of-type {\n",
       "        vertical-align: middle;\n",
       "    }\n",
       "\n",
       "    .dataframe tbody tr th {\n",
       "        vertical-align: top;\n",
       "    }\n",
       "\n",
       "    .dataframe thead th {\n",
       "        text-align: right;\n",
       "    }\n",
       "</style>\n",
       "<table border=\"1\" class=\"dataframe\">\n",
       "  <thead>\n",
       "    <tr style=\"text-align: right;\">\n",
       "      <th></th>\n",
       "      <th>GR</th>\n",
       "      <th>DT</th>\n",
       "      <th>RHOB</th>\n",
       "      <th>DRHO</th>\n",
       "      <th>NPHI</th>\n",
       "    </tr>\n",
       "    <tr>\n",
       "      <th>DEPT</th>\n",
       "      <th></th>\n",
       "      <th></th>\n",
       "      <th></th>\n",
       "      <th></th>\n",
       "      <th></th>\n",
       "    </tr>\n",
       "  </thead>\n",
       "  <tbody>\n",
       "    <tr>\n",
       "      <th>5594.2</th>\n",
       "      <td>NaN</td>\n",
       "      <td>65.364883</td>\n",
       "      <td>NaN</td>\n",
       "      <td>NaN</td>\n",
       "      <td>NaN</td>\n",
       "    </tr>\n",
       "    <tr>\n",
       "      <th>5593.2</th>\n",
       "      <td>NaN</td>\n",
       "      <td>64.244064</td>\n",
       "      <td>NaN</td>\n",
       "      <td>NaN</td>\n",
       "      <td>NaN</td>\n",
       "    </tr>\n",
       "    <tr>\n",
       "      <th>5592.2</th>\n",
       "      <td>NaN</td>\n",
       "      <td>63.408592</td>\n",
       "      <td>NaN</td>\n",
       "      <td>NaN</td>\n",
       "      <td>NaN</td>\n",
       "    </tr>\n",
       "    <tr>\n",
       "      <th>5591.2</th>\n",
       "      <td>NaN</td>\n",
       "      <td>64.532288</td>\n",
       "      <td>NaN</td>\n",
       "      <td>NaN</td>\n",
       "      <td>NaN</td>\n",
       "    </tr>\n",
       "    <tr>\n",
       "      <th>5590.2</th>\n",
       "      <td>NaN</td>\n",
       "      <td>65.439606</td>\n",
       "      <td>NaN</td>\n",
       "      <td>NaN</td>\n",
       "      <td>NaN</td>\n",
       "    </tr>\n",
       "    <tr>\n",
       "      <th>...</th>\n",
       "      <td>...</td>\n",
       "      <td>...</td>\n",
       "      <td>...</td>\n",
       "      <td>...</td>\n",
       "      <td>...</td>\n",
       "    </tr>\n",
       "    <tr>\n",
       "      <th>29.2</th>\n",
       "      <td>151.118591</td>\n",
       "      <td>NaN</td>\n",
       "      <td>NaN</td>\n",
       "      <td>NaN</td>\n",
       "      <td>NaN</td>\n",
       "    </tr>\n",
       "    <tr>\n",
       "      <th>28.2</th>\n",
       "      <td>148.454224</td>\n",
       "      <td>NaN</td>\n",
       "      <td>NaN</td>\n",
       "      <td>NaN</td>\n",
       "      <td>NaN</td>\n",
       "    </tr>\n",
       "    <tr>\n",
       "      <th>27.2</th>\n",
       "      <td>158.078278</td>\n",
       "      <td>NaN</td>\n",
       "      <td>NaN</td>\n",
       "      <td>NaN</td>\n",
       "      <td>NaN</td>\n",
       "    </tr>\n",
       "    <tr>\n",
       "      <th>26.2</th>\n",
       "      <td>139.966980</td>\n",
       "      <td>NaN</td>\n",
       "      <td>NaN</td>\n",
       "      <td>NaN</td>\n",
       "      <td>NaN</td>\n",
       "    </tr>\n",
       "    <tr>\n",
       "      <th>25.2</th>\n",
       "      <td>NaN</td>\n",
       "      <td>NaN</td>\n",
       "      <td>NaN</td>\n",
       "      <td>NaN</td>\n",
       "      <td>NaN</td>\n",
       "    </tr>\n",
       "  </tbody>\n",
       "</table>\n",
       "<p>5570 rows × 5 columns</p>\n",
       "</div>"
      ],
      "text/plain": [
       "                GR         DT  RHOB  DRHO  NPHI\n",
       "DEPT                                           \n",
       "5594.2         NaN  65.364883   NaN   NaN   NaN\n",
       "5593.2         NaN  64.244064   NaN   NaN   NaN\n",
       "5592.2         NaN  63.408592   NaN   NaN   NaN\n",
       "5591.2         NaN  64.532288   NaN   NaN   NaN\n",
       "5590.2         NaN  65.439606   NaN   NaN   NaN\n",
       "...            ...        ...   ...   ...   ...\n",
       "29.2    151.118591        NaN   NaN   NaN   NaN\n",
       "28.2    148.454224        NaN   NaN   NaN   NaN\n",
       "27.2    158.078278        NaN   NaN   NaN   NaN\n",
       "26.2    139.966980        NaN   NaN   NaN   NaN\n",
       "25.2           NaN        NaN   NaN   NaN   NaN\n",
       "\n",
       "[5570 rows x 5 columns]"
      ]
     },
     "execution_count": 61,
     "metadata": {},
     "output_type": "execute_result"
    }
   ],
   "source": [
    "df.loc['L06-06']"
   ]
  },
  {
   "cell_type": "markdown",
   "metadata": {},
   "source": [
    "# Summary:\n",
    "We have seen how to use welly to explore details of multiple well log files, plotting well locations on map, getting to visualize same curve for all wells and how to save that info to dataframe.\n",
    "\n",
    "**Author:**\\\n",
    "Dilshad Raza\\\n",
    "07/25/2022"
   ]
  }
 ],
 "metadata": {
  "kernelspec": {
   "display_name": "Python 3.10.5 64-bit",
   "language": "python",
   "name": "python3"
  },
  "language_info": {
   "codemirror_mode": {
    "name": "ipython",
    "version": 3
   },
   "file_extension": ".py",
   "mimetype": "text/x-python",
   "name": "python",
   "nbconvert_exporter": "python",
   "pygments_lexer": "ipython3",
   "version": "3.10.5"
  },
  "orig_nbformat": 4,
  "vscode": {
   "interpreter": {
    "hash": "243456f4527cc2dd26a7b0db2d7f593392b55e517837c7eea3c1c2996538c2e6"
   }
  }
 },
 "nbformat": 4,
 "nbformat_minor": 2
}
