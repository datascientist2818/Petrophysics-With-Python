{
 "cells": [
  {
   "cell_type": "markdown",
   "metadata": {},
   "source": [
    "# Welly module in Python\n",
    "\n",
    "Python has a number of open-source user-developed modules that are used for different development purposes. Welly is one of them. An open-source module that can work with Well Log Data and can load, process and visualise it efficiently.\n",
    "\n",
    "There are small number of petrophysics modules that are developed in python.\n",
    "\n",
    "Well Log data is very important;\n",
    "\n",
    "Well Log measurements are electrical measurements that have been takken along the length of the wellbore, that can include measurements of natural radioactivity of the formation, as well as interactions between electrical currents and fluids contained within the formations and from this data, we can infer a number of properties about the subsurface including porosity and permeability of the rock and from that we can understand the hydrocarbon potential of the formation as well as the potential storage capacity for something such as Carbon Dioxide.\n",
    "\n",
    "Welly Module is developed by agile geoscience group to help with the loading ad analyzing and visualization of the Well Log data. Additionally it provides tools to analyze the data quality before carrying out any further interpretation.\n",
    "\n",
    "## importing Module"
   ]
  },
  {
   "cell_type": "code",
   "execution_count": 2,
   "metadata": {},
   "outputs": [],
   "source": [
    "from welly import Well\n",
    "from welly import Curve\n",
    "import matplotlib.pyplot as plt"
   ]
  },
  {
   "cell_type": "code",
   "execution_count": 3,
   "metadata": {},
   "outputs": [],
   "source": [
    "well = Well.from_las(\"../Data/inputs/welly_data.las\")"
   ]
  },
  {
   "cell_type": "markdown",
   "metadata": {},
   "source": [
    "## Data Exploration"
   ]
  },
  {
   "cell_type": "code",
   "execution_count": 4,
   "metadata": {},
   "outputs": [
    {
     "data": {
      "text/html": [
       "<table><tr><th style=\"text-align:center;\" colspan=\"2\">L05-B-01<br><small></small></th></tr><tr><td><strong>crs</strong></td><td>CRS({})</td></tr><tr><td><strong>location</strong></td><td>NORTH SEA</td></tr><tr><td><strong>country</strong></td><td>NETHERLANDS</td></tr><tr><td><strong>state</strong></td><td>NETHERLANDS</td></tr><tr><td><strong>county</strong></td><td>GLOMAR ADRIATIC XI</td></tr><tr><td><strong>latitude</strong></td><td>53 42' 18.113\"</td></tr><tr><td><strong>longitude</strong></td><td>04 36' 12.526\"</td></tr><tr><td><strong>api</strong></td><td></td></tr><tr><td><strong>ekb</strong></td><td>40.0</td></tr><tr><td><strong>tdd</strong></td><td>4906.0</td></tr><tr><td><strong>td</strong></td><td>None</td></tr><tr><td><strong>data</strong></td><td>DRHO, DT, GR, NPHI, RHOB</td></tr></table>"
      ],
      "text/plain": [
       "Well(uwi: '', name: 'L05-B-01', 5 curves: ['GR', 'DT', 'RHOB', 'DRHO', 'NPHI'])"
      ]
     },
     "execution_count": 4,
     "metadata": {},
     "output_type": "execute_result"
    }
   ],
   "source": [
    "well"
   ]
  },
  {
   "cell_type": "code",
   "execution_count": 5,
   "metadata": {},
   "outputs": [
    {
     "data": {
      "text/html": [
       "<div>\n",
       "<style scoped>\n",
       "    .dataframe tbody tr th:only-of-type {\n",
       "        vertical-align: middle;\n",
       "    }\n",
       "\n",
       "    .dataframe tbody tr th {\n",
       "        vertical-align: top;\n",
       "    }\n",
       "\n",
       "    .dataframe thead th {\n",
       "        text-align: right;\n",
       "    }\n",
       "</style>\n",
       "<table border=\"1\" class=\"dataframe\">\n",
       "  <thead>\n",
       "    <tr style=\"text-align: right;\">\n",
       "      <th></th>\n",
       "      <th>original_mnemonic</th>\n",
       "      <th>mnemonic</th>\n",
       "      <th>unit</th>\n",
       "      <th>value</th>\n",
       "      <th>descr</th>\n",
       "      <th>section</th>\n",
       "    </tr>\n",
       "  </thead>\n",
       "  <tbody>\n",
       "    <tr>\n",
       "      <th>0</th>\n",
       "      <td>VERS</td>\n",
       "      <td>VERS</td>\n",
       "      <td></td>\n",
       "      <td>2.0</td>\n",
       "      <td>CWLS LOG ASCII STANDARD - VERSION 2.0</td>\n",
       "      <td>Version</td>\n",
       "    </tr>\n",
       "    <tr>\n",
       "      <th>1</th>\n",
       "      <td>WRAP</td>\n",
       "      <td>WRAP</td>\n",
       "      <td></td>\n",
       "      <td>NO</td>\n",
       "      <td>ONE LINE PER DEPTH STEP</td>\n",
       "      <td>Version</td>\n",
       "    </tr>\n",
       "    <tr>\n",
       "      <th>2</th>\n",
       "      <td>STRT</td>\n",
       "      <td>STRT</td>\n",
       "      <td>M</td>\n",
       "      <td>81.0</td>\n",
       "      <td>First Index Value</td>\n",
       "      <td>Well</td>\n",
       "    </tr>\n",
       "    <tr>\n",
       "      <th>3</th>\n",
       "      <td>STOP</td>\n",
       "      <td>STOP</td>\n",
       "      <td>M</td>\n",
       "      <td>4879.7006</td>\n",
       "      <td>Last Index Value</td>\n",
       "      <td>Well</td>\n",
       "    </tr>\n",
       "    <tr>\n",
       "      <th>4</th>\n",
       "      <td>STEP</td>\n",
       "      <td>STEP</td>\n",
       "      <td>M</td>\n",
       "      <td>0.1</td>\n",
       "      <td>Frame Spacing</td>\n",
       "      <td>Well</td>\n",
       "    </tr>\n",
       "    <tr>\n",
       "      <th>5</th>\n",
       "      <td>NULL</td>\n",
       "      <td>NULL</td>\n",
       "      <td></td>\n",
       "      <td>-999.25</td>\n",
       "      <td>Absent Value</td>\n",
       "      <td>Well</td>\n",
       "    </tr>\n",
       "    <tr>\n",
       "      <th>6</th>\n",
       "      <td>WELL</td>\n",
       "      <td>WELL</td>\n",
       "      <td></td>\n",
       "      <td>L05-B-01</td>\n",
       "      <td>Well Name</td>\n",
       "      <td>Well</td>\n",
       "    </tr>\n",
       "    <tr>\n",
       "      <th>7</th>\n",
       "      <td>FLD</td>\n",
       "      <td>FLD</td>\n",
       "      <td></td>\n",
       "      <td>L5</td>\n",
       "      <td>Field Name</td>\n",
       "      <td>Well</td>\n",
       "    </tr>\n",
       "    <tr>\n",
       "      <th>8</th>\n",
       "      <td>CNTY</td>\n",
       "      <td>CNTY</td>\n",
       "      <td></td>\n",
       "      <td>GLOMAR ADRIATIC XI</td>\n",
       "      <td>County</td>\n",
       "      <td>Well</td>\n",
       "    </tr>\n",
       "    <tr>\n",
       "      <th>9</th>\n",
       "      <td>STAT</td>\n",
       "      <td>STAT</td>\n",
       "      <td></td>\n",
       "      <td>NETHERLANDS</td>\n",
       "      <td>State</td>\n",
       "      <td>Well</td>\n",
       "    </tr>\n",
       "    <tr>\n",
       "      <th>10</th>\n",
       "      <td>CTRY</td>\n",
       "      <td>CTRY</td>\n",
       "      <td></td>\n",
       "      <td>NETHERLANDS</td>\n",
       "      <td>Country</td>\n",
       "      <td>Well</td>\n",
       "    </tr>\n",
       "    <tr>\n",
       "      <th>11</th>\n",
       "      <td>LOC</td>\n",
       "      <td>LOC</td>\n",
       "      <td></td>\n",
       "      <td>NORTH SEA</td>\n",
       "      <td>Location</td>\n",
       "      <td>Well</td>\n",
       "    </tr>\n",
       "    <tr>\n",
       "      <th>12</th>\n",
       "      <td>API</td>\n",
       "      <td>API</td>\n",
       "      <td></td>\n",
       "      <td></td>\n",
       "      <td>API Number</td>\n",
       "      <td>Well</td>\n",
       "    </tr>\n",
       "    <tr>\n",
       "      <th>13</th>\n",
       "      <td>DATE</td>\n",
       "      <td>DATE</td>\n",
       "      <td></td>\n",
       "      <td>16-Feb-2002</td>\n",
       "      <td>Date</td>\n",
       "      <td>Well</td>\n",
       "    </tr>\n",
       "    <tr>\n",
       "      <th>14</th>\n",
       "      <td>COMP</td>\n",
       "      <td>COMP</td>\n",
       "      <td></td>\n",
       "      <td>WIN</td>\n",
       "      <td>Company Name</td>\n",
       "      <td>Well</td>\n",
       "    </tr>\n",
       "    <tr>\n",
       "      <th>15</th>\n",
       "      <td>SRVC</td>\n",
       "      <td>SRVC</td>\n",
       "      <td></td>\n",
       "      <td></td>\n",
       "      <td>Service Company</td>\n",
       "      <td>Well</td>\n",
       "    </tr>\n",
       "    <tr>\n",
       "      <th>16</th>\n",
       "      <td>LATI</td>\n",
       "      <td>LATI</td>\n",
       "      <td>DEG</td>\n",
       "      <td>53 42' 18.113\"</td>\n",
       "      <td>LATITUDE</td>\n",
       "      <td>Well</td>\n",
       "    </tr>\n",
       "    <tr>\n",
       "      <th>17</th>\n",
       "      <td>LONG</td>\n",
       "      <td>LONG</td>\n",
       "      <td>DEG</td>\n",
       "      <td>04 36' 12.526\"</td>\n",
       "      <td>LONGITUDE</td>\n",
       "      <td>Well</td>\n",
       "    </tr>\n",
       "    <tr>\n",
       "      <th>18</th>\n",
       "      <td>DEPT</td>\n",
       "      <td>DEPT</td>\n",
       "      <td>M</td>\n",
       "      <td></td>\n",
       "      <td>1     Index curve</td>\n",
       "      <td>Curves</td>\n",
       "    </tr>\n",
       "    <tr>\n",
       "      <th>19</th>\n",
       "      <td>GR</td>\n",
       "      <td>GR</td>\n",
       "      <td>GAPI</td>\n",
       "      <td></td>\n",
       "      <td>2     Gamma Ray</td>\n",
       "      <td>Curves</td>\n",
       "    </tr>\n",
       "    <tr>\n",
       "      <th>20</th>\n",
       "      <td>DT</td>\n",
       "      <td>DT</td>\n",
       "      <td>US/F</td>\n",
       "      <td></td>\n",
       "      <td>3     Acoustic Compressional Slowness - DTC</td>\n",
       "      <td>Curves</td>\n",
       "    </tr>\n",
       "    <tr>\n",
       "      <th>21</th>\n",
       "      <td>RHOB</td>\n",
       "      <td>RHOB</td>\n",
       "      <td>G/C3</td>\n",
       "      <td></td>\n",
       "      <td>4     Bulk Density</td>\n",
       "      <td>Curves</td>\n",
       "    </tr>\n",
       "    <tr>\n",
       "      <th>22</th>\n",
       "      <td>DRHO</td>\n",
       "      <td>DRHO</td>\n",
       "      <td>G/C3</td>\n",
       "      <td></td>\n",
       "      <td>5     Density Correction</td>\n",
       "      <td>Curves</td>\n",
       "    </tr>\n",
       "    <tr>\n",
       "      <th>23</th>\n",
       "      <td>NPHI</td>\n",
       "      <td>NPHI</td>\n",
       "      <td>V/V</td>\n",
       "      <td></td>\n",
       "      <td>6     Neutron Porosity</td>\n",
       "      <td>Curves</td>\n",
       "    </tr>\n",
       "    <tr>\n",
       "      <th>24</th>\n",
       "      <td>TDD</td>\n",
       "      <td>TDD</td>\n",
       "      <td>M</td>\n",
       "      <td>4906.0</td>\n",
       "      <td>Total Depth (Driller)</td>\n",
       "      <td>Parameter</td>\n",
       "    </tr>\n",
       "    <tr>\n",
       "      <th>25</th>\n",
       "      <td>UBID</td>\n",
       "      <td>UBID</td>\n",
       "      <td></td>\n",
       "      <td>8552</td>\n",
       "      <td>Unique Borehole Id</td>\n",
       "      <td>Parameter</td>\n",
       "    </tr>\n",
       "    <tr>\n",
       "      <th>26</th>\n",
       "      <td>PDAT</td>\n",
       "      <td>PDAT</td>\n",
       "      <td></td>\n",
       "      <td>Mean Sea Level</td>\n",
       "      <td>Permanent Datum</td>\n",
       "      <td>Parameter</td>\n",
       "    </tr>\n",
       "    <tr>\n",
       "      <th>27</th>\n",
       "      <td>EPD</td>\n",
       "      <td>EPD</td>\n",
       "      <td>M</td>\n",
       "      <td>0.0</td>\n",
       "      <td>Elevation of Permanent Datum (PDAT) above Mean...</td>\n",
       "      <td>Parameter</td>\n",
       "    </tr>\n",
       "    <tr>\n",
       "      <th>28</th>\n",
       "      <td>LMF</td>\n",
       "      <td>LMF</td>\n",
       "      <td></td>\n",
       "      <td></td>\n",
       "      <td>Logging Measured From (Name of Logging Elevati...</td>\n",
       "      <td>Parameter</td>\n",
       "    </tr>\n",
       "    <tr>\n",
       "      <th>29</th>\n",
       "      <td>APD</td>\n",
       "      <td>APD</td>\n",
       "      <td>M</td>\n",
       "      <td>40.0</td>\n",
       "      <td>Elevation of Depth Reference (LMF) Above Perma...</td>\n",
       "      <td>Parameter</td>\n",
       "    </tr>\n",
       "    <tr>\n",
       "      <th>30</th>\n",
       "      <td>EKB</td>\n",
       "      <td>EKB</td>\n",
       "      <td>M</td>\n",
       "      <td>40.0</td>\n",
       "      <td>Elevation of Kelly Bushing Above Mean Sea Level</td>\n",
       "      <td>Parameter</td>\n",
       "    </tr>\n",
       "    <tr>\n",
       "      <th>31</th>\n",
       "      <td></td>\n",
       "      <td>UNKNOWN</td>\n",
       "      <td></td>\n",
       "      <td></td>\n",
       "      <td>composite_curve_qc</td>\n",
       "      <td>Other</td>\n",
       "    </tr>\n",
       "  </tbody>\n",
       "</table>\n",
       "</div>"
      ],
      "text/plain": [
       "   original_mnemonic mnemonic  unit               value  \\\n",
       "0               VERS     VERS                       2.0   \n",
       "1               WRAP     WRAP                        NO   \n",
       "2               STRT     STRT     M                81.0   \n",
       "3               STOP     STOP     M           4879.7006   \n",
       "4               STEP     STEP     M                 0.1   \n",
       "5               NULL     NULL                   -999.25   \n",
       "6               WELL     WELL                  L05-B-01   \n",
       "7                FLD      FLD                        L5   \n",
       "8               CNTY     CNTY        GLOMAR ADRIATIC XI   \n",
       "9               STAT     STAT               NETHERLANDS   \n",
       "10              CTRY     CTRY               NETHERLANDS   \n",
       "11               LOC      LOC                 NORTH SEA   \n",
       "12               API      API                             \n",
       "13              DATE     DATE               16-Feb-2002   \n",
       "14              COMP     COMP                       WIN   \n",
       "15              SRVC     SRVC                             \n",
       "16              LATI     LATI   DEG      53 42' 18.113\"   \n",
       "17              LONG     LONG   DEG      04 36' 12.526\"   \n",
       "18              DEPT     DEPT     M                       \n",
       "19                GR       GR  GAPI                       \n",
       "20                DT       DT  US/F                       \n",
       "21              RHOB     RHOB  G/C3                       \n",
       "22              DRHO     DRHO  G/C3                       \n",
       "23              NPHI     NPHI   V/V                       \n",
       "24               TDD      TDD     M              4906.0   \n",
       "25              UBID     UBID                      8552   \n",
       "26              PDAT     PDAT            Mean Sea Level   \n",
       "27               EPD      EPD     M                 0.0   \n",
       "28               LMF      LMF                             \n",
       "29               APD      APD     M                40.0   \n",
       "30               EKB      EKB     M                40.0   \n",
       "31                    UNKNOWN                             \n",
       "\n",
       "                                                descr    section  \n",
       "0               CWLS LOG ASCII STANDARD - VERSION 2.0    Version  \n",
       "1                             ONE LINE PER DEPTH STEP    Version  \n",
       "2                                   First Index Value       Well  \n",
       "3                                    Last Index Value       Well  \n",
       "4                                       Frame Spacing       Well  \n",
       "5                                        Absent Value       Well  \n",
       "6                                           Well Name       Well  \n",
       "7                                          Field Name       Well  \n",
       "8                                              County       Well  \n",
       "9                                               State       Well  \n",
       "10                                            Country       Well  \n",
       "11                                           Location       Well  \n",
       "12                                         API Number       Well  \n",
       "13                                               Date       Well  \n",
       "14                                       Company Name       Well  \n",
       "15                                    Service Company       Well  \n",
       "16                                           LATITUDE       Well  \n",
       "17                                          LONGITUDE       Well  \n",
       "18                                  1     Index curve     Curves  \n",
       "19                                    2     Gamma Ray     Curves  \n",
       "20        3     Acoustic Compressional Slowness - DTC     Curves  \n",
       "21                                 4     Bulk Density     Curves  \n",
       "22                           5     Density Correction     Curves  \n",
       "23                             6     Neutron Porosity     Curves  \n",
       "24                              Total Depth (Driller)  Parameter  \n",
       "25                                 Unique Borehole Id  Parameter  \n",
       "26                                    Permanent Datum  Parameter  \n",
       "27  Elevation of Permanent Datum (PDAT) above Mean...  Parameter  \n",
       "28  Logging Measured From (Name of Logging Elevati...  Parameter  \n",
       "29  Elevation of Depth Reference (LMF) Above Perma...  Parameter  \n",
       "30    Elevation of Kelly Bushing Above Mean Sea Level  Parameter  \n",
       "31                                 composite_curve_qc      Other  "
      ]
     },
     "execution_count": 5,
     "metadata": {},
     "output_type": "execute_result"
    }
   ],
   "source": [
    "well.header"
   ]
  },
  {
   "cell_type": "code",
   "execution_count": 6,
   "metadata": {},
   "outputs": [
    {
     "data": {
      "text/plain": [
       "Location({'position': None, 'crs': CRS({}), 'location': 'NORTH SEA', 'country': 'NETHERLANDS', 'state': 'NETHERLANDS', 'county': 'GLOMAR ADRIATIC XI', 'latitude': '53 42\\' 18.113\"', 'longitude': '04 36\\' 12.526\"', 'api': '', 'ekb': 40.0, 'tdd': 4906.0, 'td': None, 'deviation': None})"
      ]
     },
     "execution_count": 6,
     "metadata": {},
     "output_type": "execute_result"
    }
   ],
   "source": [
    "well.location"
   ]
  },
  {
   "cell_type": "code",
   "execution_count": 7,
   "metadata": {},
   "outputs": [
    {
     "name": "stdout",
     "output_type": "stream",
     "text": [
      "53 42' 18.113\"\n",
      "04 36' 12.526\"\n"
     ]
    }
   ],
   "source": [
    "lati = well.location.latitude\n",
    "long = well.location.longitude\n",
    "\n",
    "print(lati)\n",
    "print(long)"
   ]
  },
  {
   "cell_type": "markdown",
   "metadata": {},
   "source": [
    "# Exploring Data"
   ]
  },
  {
   "cell_type": "code",
   "execution_count": 8,
   "metadata": {},
   "outputs": [
    {
     "data": {
      "text/plain": [
       "5"
      ]
     },
     "execution_count": 8,
     "metadata": {},
     "output_type": "execute_result"
    }
   ],
   "source": [
    "well.count_curves()"
   ]
  },
  {
   "cell_type": "code",
   "execution_count": 9,
   "metadata": {},
   "outputs": [
    {
     "data": {
      "text/plain": [
       "['GR', 'DT', 'RHOB', 'DRHO', 'NPHI']"
      ]
     },
     "execution_count": 9,
     "metadata": {},
     "output_type": "execute_result"
    }
   ],
   "source": [
    "well._get_curve_mnemonics()"
   ]
  },
  {
   "cell_type": "code",
   "execution_count": 10,
   "metadata": {},
   "outputs": [
    {
     "data": {
      "text/plain": [
       "{'GR': Curve(mnemonic=GR, units=GAPI, start=81.0000, stop=4879.7006, step=0.0000, count=[47974]),\n",
       " 'DT': Curve(mnemonic=DT, units=US/F, start=81.0000, stop=4879.7006, step=0.0000, count=[21709]),\n",
       " 'RHOB': Curve(mnemonic=RHOB, units=G/C3, start=81.0000, stop=4879.7006, step=0.0000, count=[2075]),\n",
       " 'DRHO': Curve(mnemonic=DRHO, units=G/C3, start=81.0000, stop=4879.7006, step=0.0000, count=[2075]),\n",
       " 'NPHI': Curve(mnemonic=NPHI, units=V/V, start=81.0000, stop=4879.7006, step=0.0000, count=[3095])}"
      ]
     },
     "execution_count": 10,
     "metadata": {},
     "output_type": "execute_result"
    }
   ],
   "source": [
    "well.data"
   ]
  },
  {
   "cell_type": "code",
   "execution_count": 11,
   "metadata": {},
   "outputs": [
    {
     "data": {
      "text/html": [
       "<table><tr><th style=\"text-align:center;\" colspan=\"2\">GR [GAPI]</th></tr><tr><td style=\"text-align:center;\" colspan=\"2\">81.0000 : 4879.7006 : 0.0000</td></tr><tr><td><strong>index_units</strong></td><td>M</td></tr><tr><td><strong>code</strong></td><td>None</td></tr><tr><td><strong>description</strong></td><td>2     Gamma Ray</td></tr><tr><td><strong>log_type</strong></td><td>None</td></tr><tr><td><strong>api</strong></td><td></td></tr><tr><td><strong>date</strong></td><td>16-Feb-2002</td></tr><tr><td><strong>null</strong></td><td>-999.25</td></tr><tr><td><strong>run</strong></td><td>None</td></tr><tr><td><strong>service_company</strong></td><td></td></tr><tr><th style=\"border-top: 2px solid #000; text-align:center;\" colspan=\"2\"><strong>Stats</strong></th></tr><tr><td><strong>samples (NaNs)</strong></td><td>47988 (14)</td></tr><tr><td><strong><sub>min</sub> mean <sup>max</sup></strong></td><td><sub>12.02</sub> 36.019 <sup>218.20</sup></td></tr><tr><th style=\"border-top: 2px solid #000;\">Depth</th><th style=\"border-top: 2px solid #000;\">Value</th></tr><tr><td>81.0000</td><td>nan</td></tr><tr><td>81.1000</td><td>nan</td></tr><tr><td>81.2000</td><td>nan</td></tr><tr><td>⋮</td><td>⋮</td></tr><tr><td>4879.5006</td><td>104.0882</td></tr><tr><td>4879.6006</td><td>103.3753</td></tr><tr><td>4879.7006</td><td>102.7809</td></tr></table>"
      ],
      "text/plain": [
       "Curve(mnemonic=GR, units=GAPI, start=81.0000, stop=4879.7006, step=0.0000, count=[47974])"
      ]
     },
     "execution_count": 11,
     "metadata": {},
     "output_type": "execute_result"
    }
   ],
   "source": [
    "well.data['GR']"
   ]
  },
  {
   "cell_type": "markdown",
   "metadata": {},
   "source": [
    "## Data Quality Check"
   ]
  },
  {
   "cell_type": "code",
   "execution_count": 12,
   "metadata": {},
   "outputs": [],
   "source": [
    "import welly.quality as wq"
   ]
  },
  {
   "cell_type": "code",
   "execution_count": 13,
   "metadata": {},
   "outputs": [],
   "source": [
    "tests = {'Each': [wq.no_flat,\n",
    "         wq.no_gaps,\n",
    "         wq.not_empty],\n",
    "         'GR': [\n",
    "             wq.all_positive,\n",
    "             wq.all_between(0,250),\n",
    "             wq.check_units(['API', 'GAPI'])\n",
    "         ],\n",
    "         'RHOB': [\n",
    "             wq.all_positive,\n",
    "             wq.all_between(1.5,3),\n",
    "             wq.check_units(['G/CC', 'g/cn3'])\n",
    "         ]}"
   ]
  },
  {
   "cell_type": "code",
   "execution_count": 14,
   "metadata": {},
   "outputs": [
    {
     "data": {
      "text/html": [
       "<table><tr><th>Curve</th><th>Passed</th><th>Score</th><th>not_empty</th><th>all_between</th><th>no_flat</th><th>all_positive</th><th>no_gaps</th><th>check_units</th></tr><tr><th>GR</th><td>6 / 6</td><td>1.000</td><td style=\"background-color:#CCEECC;\">True</td><td style=\"background-color:#CCEECC;\">True</td><td style=\"background-color:#CCEECC;\">True</td><td style=\"background-color:#CCEECC;\">True</td><td style=\"background-color:#CCEECC;\">True</td><td style=\"background-color:#CCEECC;\">True</td></tr><tr><th>DT</th><td>2 / 3</td><td>0.667</td><td style=\"background-color:#CCEECC;\">True</td><td style=\"background-color:#EEEEEE;\"></td><td style=\"background-color:#CCEECC;\">True</td><td style=\"background-color:#EEEEEE;\"></td><td style=\"background-color:#FFCCCC;\">False</td><td style=\"background-color:#EEEEEE;\"></td></tr><tr><th>RHOB</th><td>5 / 6</td><td>0.833</td><td style=\"background-color:#CCEECC;\">True</td><td style=\"background-color:#CCEECC;\">True</td><td style=\"background-color:#CCEECC;\">True</td><td style=\"background-color:#CCEECC;\">True</td><td style=\"background-color:#CCEECC;\">True</td><td style=\"background-color:#FFCCCC;\">False</td></tr><tr><th>DRHO</th><td>3 / 3</td><td>1.000</td><td style=\"background-color:#CCEECC;\">True</td><td style=\"background-color:#EEEEEE;\"></td><td style=\"background-color:#CCEECC;\">True</td><td style=\"background-color:#EEEEEE;\"></td><td style=\"background-color:#CCEECC;\">True</td><td style=\"background-color:#EEEEEE;\"></td></tr><tr><th>NPHI</th><td>3 / 3</td><td>1.000</td><td style=\"background-color:#CCEECC;\">True</td><td style=\"background-color:#EEEEEE;\"></td><td style=\"background-color:#CCEECC;\">True</td><td style=\"background-color:#EEEEEE;\"></td><td style=\"background-color:#CCEECC;\">True</td><td style=\"background-color:#EEEEEE;\"></td></tr></table>"
      ],
      "text/plain": [
       "<IPython.core.display.HTML object>"
      ]
     },
     "execution_count": 14,
     "metadata": {},
     "output_type": "execute_result"
    }
   ],
   "source": [
    "from IPython.display import HTML\n",
    "data_qc_table = well.qc_table_html(tests)\n",
    "HTML(data_qc_table)"
   ]
  },
  {
   "cell_type": "code",
   "execution_count": 15,
   "metadata": {},
   "outputs": [
    {
     "data": {
      "text/html": [
       "<table><tr><th style=\"text-align:center;\" colspan=\"2\">RHOB [G/C3]</th></tr><tr><td style=\"text-align:center;\" colspan=\"2\">81.0000 : 4879.7006 : 0.0000</td></tr><tr><td><strong>index_units</strong></td><td>M</td></tr><tr><td><strong>code</strong></td><td>None</td></tr><tr><td><strong>description</strong></td><td>4     Bulk Density</td></tr><tr><td><strong>log_type</strong></td><td>None</td></tr><tr><td><strong>api</strong></td><td></td></tr><tr><td><strong>date</strong></td><td>16-Feb-2002</td></tr><tr><td><strong>null</strong></td><td>-999.25</td></tr><tr><td><strong>run</strong></td><td>None</td></tr><tr><td><strong>service_company</strong></td><td></td></tr><tr><th style=\"border-top: 2px solid #000; text-align:center;\" colspan=\"2\"><strong>Stats</strong></th></tr><tr><td><strong>samples (NaNs)</strong></td><td>47988 (45913)</td></tr><tr><td><strong><sub>min</sub> mean <sup>max</sup></strong></td><td><sub>1.95</sub> 2.563 <sup>2.79</sup></td></tr><tr><th style=\"border-top: 2px solid #000;\">Depth</th><th style=\"border-top: 2px solid #000;\">Value</th></tr><tr><td>81.0000</td><td>nan</td></tr><tr><td>81.1000</td><td>nan</td></tr><tr><td>81.2000</td><td>nan</td></tr><tr><td>⋮</td><td>⋮</td></tr><tr><td>4879.5006</td><td>nan</td></tr><tr><td>4879.6006</td><td>nan</td></tr><tr><td>4879.7006</td><td>nan</td></tr></table>"
      ],
      "text/plain": [
       "Curve(mnemonic=RHOB, units=G/C3, start=81.0000, stop=4879.7006, step=0.0000, count=[2075])"
      ]
     },
     "execution_count": 15,
     "metadata": {},
     "output_type": "execute_result"
    }
   ],
   "source": [
    "well.data['RHOB']"
   ]
  },
  {
   "cell_type": "code",
   "execution_count": 16,
   "metadata": {},
   "outputs": [
    {
     "data": {
      "text/html": [
       "<table><tr><th>Curve</th><th>Passed</th><th>Score</th><th>fraction_not_nans</th></tr><tr><th>GR</th><td>0.999708260398433 / 1</td><td>1.000</td><td style=\"background-color:#EEEEEE;\">0.999708260398433</td></tr><tr><th>DT</th><td>0.4523839293156623 / 1</td><td>0.452</td><td style=\"background-color:#EEEEEE;\">0.4523839293156623</td></tr><tr><th>RHOB</th><td>0.0432399766608319 / 1</td><td>0.043</td><td style=\"background-color:#EEEEEE;\">0.0432399766608319</td></tr><tr><th>DRHO</th><td>0.0432399766608319 / 1</td><td>0.043</td><td style=\"background-color:#EEEEEE;\">0.0432399766608319</td></tr><tr><th>NPHI</th><td>0.06449529048928904 / 1</td><td>0.064</td><td style=\"background-color:#EEEEEE;\">0.06449529048928904</td></tr></table>"
      ],
      "text/plain": [
       "<IPython.core.display.HTML object>"
      ]
     },
     "execution_count": 16,
     "metadata": {},
     "output_type": "execute_result"
    }
   ],
   "source": [
    "tests_nans = {'Each': [wq.fraction_not_nans]}\n",
    "data_nans_qc_table = well.qc_table_html(tests_nans)\n",
    "HTML(data_nans_qc_table)"
   ]
  },
  {
   "cell_type": "code",
   "execution_count": 18,
   "metadata": {},
   "outputs": [
    {
     "name": "stdout",
     "output_type": "stream",
     "text": [
      "Curve      % Complete\n",
      "-----      -----------\n",
      "GR         99.97%\n",
      "DT         45.24%\n",
      "RHOB       4.32%\n",
      "DRHO       4.32%\n",
      "NPHI       6.45%\n"
     ]
    }
   ],
   "source": [
    "print((f'Curve \\t % Complete').expandtabs(10))\n",
    "print((f'----- \\t -----------').expandtabs(10))\n",
    "\n",
    "for k,v in well.qc_data(tests_nans).items():\n",
    "    for i,j in v.items():\n",
    "        values=round(j*100,2)\n",
    "    print((f'{k} \\t {values}%' ).expandtabs(10))"
   ]
  },
  {
   "cell_type": "markdown",
   "metadata": {},
   "source": [
    "## Basic Plotting with Welly\n"
   ]
  },
  {
   "cell_type": "code",
   "execution_count": 20,
   "metadata": {},
   "outputs": [
    {
     "data": {
      "image/png": "[encoded data removed]",
      "text/plain": [
       "<Figure size 720x864 with 5 Axes>"
      ]
     },
     "execution_count": 20,
     "metadata": {},
     "output_type": "execute_result"
    }
   ],
   "source": [
    "tracks = ['MD','GR', 'RHOB','NPHI', 'DT']\n",
    "well.plot(tracks=tracks)"
   ]
  },
  {
   "cell_type": "code",
   "execution_count": 22,
   "metadata": {},
   "outputs": [
    {
     "data": {
      "image/png": "[encoded data removed]",
      "text/plain": [
       "<Figure size 720x864 with 5 Axes>"
      ]
     },
     "execution_count": 22,
     "metadata": {},
     "output_type": "execute_result"
    },
    {
     "data": {
      "image/png": "[encoded data removed]",
      "text/plain": [
       "<Figure size 432x288 with 1 Axes>"
      ]
     },
     "metadata": {
      "needs_background": "light"
     },
     "output_type": "display_data"
    }
   ],
   "source": [
    "tracks = ['MD','GR', 'RHOB','NPHI', 'DT']\n",
    "\n",
    "plt.ylim(5000,3000)\n",
    "well.plot(tracks=tracks)"
   ]
  },
  {
   "cell_type": "markdown",
   "metadata": {},
   "source": [
    "# Welly to Pandas Dataframe\n"
   ]
  },
  {
   "cell_type": "code",
   "execution_count": 23,
   "metadata": {},
   "outputs": [],
   "source": [
    "df=well.df()"
   ]
  },
  {
   "cell_type": "code",
   "execution_count": 24,
   "metadata": {},
   "outputs": [
    {
     "data": {
      "text/html": [
       "<div>\n",
       "<style scoped>\n",
       "    .dataframe tbody tr th:only-of-type {\n",
       "        vertical-align: middle;\n",
       "    }\n",
       "\n",
       "    .dataframe tbody tr th {\n",
       "        vertical-align: top;\n",
       "    }\n",
       "\n",
       "    .dataframe thead th {\n",
       "        text-align: right;\n",
       "    }\n",
       "</style>\n",
       "<table border=\"1\" class=\"dataframe\">\n",
       "  <thead>\n",
       "    <tr style=\"text-align: right;\">\n",
       "      <th></th>\n",
       "      <th>GR</th>\n",
       "      <th>DT</th>\n",
       "      <th>RHOB</th>\n",
       "      <th>DRHO</th>\n",
       "      <th>NPHI</th>\n",
       "    </tr>\n",
       "    <tr>\n",
       "      <th>DEPT</th>\n",
       "      <th></th>\n",
       "      <th></th>\n",
       "      <th></th>\n",
       "      <th></th>\n",
       "      <th></th>\n",
       "    </tr>\n",
       "  </thead>\n",
       "  <tbody>\n",
       "    <tr>\n",
       "      <th>81.0</th>\n",
       "      <td>NaN</td>\n",
       "      <td>NaN</td>\n",
       "      <td>NaN</td>\n",
       "      <td>NaN</td>\n",
       "      <td>NaN</td>\n",
       "    </tr>\n",
       "    <tr>\n",
       "      <th>82.0</th>\n",
       "      <td>NaN</td>\n",
       "      <td>NaN</td>\n",
       "      <td>NaN</td>\n",
       "      <td>NaN</td>\n",
       "      <td>NaN</td>\n",
       "    </tr>\n",
       "    <tr>\n",
       "      <th>83.0</th>\n",
       "      <td>23.235703000</td>\n",
       "      <td>NaN</td>\n",
       "      <td>NaN</td>\n",
       "      <td>NaN</td>\n",
       "      <td>NaN</td>\n",
       "    </tr>\n",
       "    <tr>\n",
       "      <th>84.0</th>\n",
       "      <td>22.028881000</td>\n",
       "      <td>NaN</td>\n",
       "      <td>NaN</td>\n",
       "      <td>NaN</td>\n",
       "      <td>NaN</td>\n",
       "    </tr>\n",
       "    <tr>\n",
       "      <th>85.0</th>\n",
       "      <td>24.331657000</td>\n",
       "      <td>NaN</td>\n",
       "      <td>NaN</td>\n",
       "      <td>NaN</td>\n",
       "      <td>NaN</td>\n",
       "    </tr>\n",
       "    <tr>\n",
       "      <th>...</th>\n",
       "      <td>...</td>\n",
       "      <td>...</td>\n",
       "      <td>...</td>\n",
       "      <td>...</td>\n",
       "      <td>...</td>\n",
       "    </tr>\n",
       "    <tr>\n",
       "      <th>4875.0</th>\n",
       "      <td>101.878146388</td>\n",
       "      <td>NaN</td>\n",
       "      <td>NaN</td>\n",
       "      <td>NaN</td>\n",
       "      <td>NaN</td>\n",
       "    </tr>\n",
       "    <tr>\n",
       "      <th>4876.0</th>\n",
       "      <td>104.593236966</td>\n",
       "      <td>NaN</td>\n",
       "      <td>NaN</td>\n",
       "      <td>NaN</td>\n",
       "      <td>NaN</td>\n",
       "    </tr>\n",
       "    <tr>\n",
       "      <th>4877.0</th>\n",
       "      <td>103.090592646</td>\n",
       "      <td>NaN</td>\n",
       "      <td>NaN</td>\n",
       "      <td>NaN</td>\n",
       "      <td>NaN</td>\n",
       "    </tr>\n",
       "    <tr>\n",
       "      <th>4878.0</th>\n",
       "      <td>103.406466948</td>\n",
       "      <td>NaN</td>\n",
       "      <td>NaN</td>\n",
       "      <td>NaN</td>\n",
       "      <td>NaN</td>\n",
       "    </tr>\n",
       "    <tr>\n",
       "      <th>4879.0</th>\n",
       "      <td>102.975374710</td>\n",
       "      <td>NaN</td>\n",
       "      <td>NaN</td>\n",
       "      <td>NaN</td>\n",
       "      <td>NaN</td>\n",
       "    </tr>\n",
       "  </tbody>\n",
       "</table>\n",
       "<p>4799 rows × 5 columns</p>\n",
       "</div>"
      ],
      "text/plain": [
       "                   GR  DT  RHOB  DRHO  NPHI\n",
       "DEPT                                       \n",
       "81.0              NaN NaN   NaN   NaN   NaN\n",
       "82.0              NaN NaN   NaN   NaN   NaN\n",
       "83.0     23.235703000 NaN   NaN   NaN   NaN\n",
       "84.0     22.028881000 NaN   NaN   NaN   NaN\n",
       "85.0     24.331657000 NaN   NaN   NaN   NaN\n",
       "...               ...  ..   ...   ...   ...\n",
       "4875.0  101.878146388 NaN   NaN   NaN   NaN\n",
       "4876.0  104.593236966 NaN   NaN   NaN   NaN\n",
       "4877.0  103.090592646 NaN   NaN   NaN   NaN\n",
       "4878.0  103.406466948 NaN   NaN   NaN   NaN\n",
       "4879.0  102.975374710 NaN   NaN   NaN   NaN\n",
       "\n",
       "[4799 rows x 5 columns]"
      ]
     },
     "execution_count": 24,
     "metadata": {},
     "output_type": "execute_result"
    }
   ],
   "source": [
    "df"
   ]
  },
  {
   "cell_type": "code",
   "execution_count": 25,
   "metadata": {},
   "outputs": [
    {
     "data": {
      "text/html": [
       "<div>\n",
       "<style scoped>\n",
       "    .dataframe tbody tr th:only-of-type {\n",
       "        vertical-align: middle;\n",
       "    }\n",
       "\n",
       "    .dataframe tbody tr th {\n",
       "        vertical-align: top;\n",
       "    }\n",
       "\n",
       "    .dataframe thead th {\n",
       "        text-align: right;\n",
       "    }\n",
       "</style>\n",
       "<table border=\"1\" class=\"dataframe\">\n",
       "  <thead>\n",
       "    <tr style=\"text-align: right;\">\n",
       "      <th></th>\n",
       "      <th>GR</th>\n",
       "      <th>DT</th>\n",
       "      <th>RHOB</th>\n",
       "      <th>DRHO</th>\n",
       "      <th>NPHI</th>\n",
       "    </tr>\n",
       "  </thead>\n",
       "  <tbody>\n",
       "    <tr>\n",
       "      <th>count</th>\n",
       "      <td>4797.0000000000</td>\n",
       "      <td>2170.0000000000</td>\n",
       "      <td>207.0000000000</td>\n",
       "      <td>207.0000000000</td>\n",
       "      <td>309.0000000000</td>\n",
       "    </tr>\n",
       "    <tr>\n",
       "      <th>mean</th>\n",
       "      <td>36.0487982300</td>\n",
       "      <td>68.3767319116</td>\n",
       "      <td>2.5594916779</td>\n",
       "      <td>0.0176576564</td>\n",
       "      <td>0.1636017228</td>\n",
       "    </tr>\n",
       "    <tr>\n",
       "      <th>std</th>\n",
       "      <td>23.2208116824</td>\n",
       "      <td>5.6885362774</td>\n",
       "      <td>0.1239327943</td>\n",
       "      <td>0.0458511985</td>\n",
       "      <td>0.0791964007</td>\n",
       "    </tr>\n",
       "    <tr>\n",
       "      <th>min</th>\n",
       "      <td>12.0199110000</td>\n",
       "      <td>46.8437516720</td>\n",
       "      <td>1.9546740000</td>\n",
       "      <td>-0.1300330000</td>\n",
       "      <td>0.0335770320</td>\n",
       "    </tr>\n",
       "    <tr>\n",
       "      <th>25%</th>\n",
       "      <td>22.7054630000</td>\n",
       "      <td>67.3827693840</td>\n",
       "      <td>2.4973186500</td>\n",
       "      <td>-0.0155278720</td>\n",
       "      <td>0.1012420000</td>\n",
       "    </tr>\n",
       "    <tr>\n",
       "      <th>50%</th>\n",
       "      <td>29.8225670000</td>\n",
       "      <td>68.6552209255</td>\n",
       "      <td>2.5655387100</td>\n",
       "      <td>0.0026197380</td>\n",
       "      <td>0.1309782360</td>\n",
       "    </tr>\n",
       "    <tr>\n",
       "      <th>75%</th>\n",
       "      <td>37.4326958240</td>\n",
       "      <td>69.3066997593</td>\n",
       "      <td>2.6622683160</td>\n",
       "      <td>0.0473911640</td>\n",
       "      <td>0.2308796940</td>\n",
       "    </tr>\n",
       "    <tr>\n",
       "      <th>max</th>\n",
       "      <td>217.6526823380</td>\n",
       "      <td>120.1704100000</td>\n",
       "      <td>2.7581690000</td>\n",
       "      <td>0.1279050000</td>\n",
       "      <td>0.3853830000</td>\n",
       "    </tr>\n",
       "  </tbody>\n",
       "</table>\n",
       "</div>"
      ],
      "text/plain": [
       "                    GR               DT            RHOB            DRHO  \\\n",
       "count  4797.0000000000  2170.0000000000  207.0000000000  207.0000000000   \n",
       "mean     36.0487982300    68.3767319116    2.5594916779    0.0176576564   \n",
       "std      23.2208116824     5.6885362774    0.1239327943    0.0458511985   \n",
       "min      12.0199110000    46.8437516720    1.9546740000   -0.1300330000   \n",
       "25%      22.7054630000    67.3827693840    2.4973186500   -0.0155278720   \n",
       "50%      29.8225670000    68.6552209255    2.5655387100    0.0026197380   \n",
       "75%      37.4326958240    69.3066997593    2.6622683160    0.0473911640   \n",
       "max     217.6526823380   120.1704100000    2.7581690000    0.1279050000   \n",
       "\n",
       "                 NPHI  \n",
       "count  309.0000000000  \n",
       "mean     0.1636017228  \n",
       "std      0.0791964007  \n",
       "min      0.0335770320  \n",
       "25%      0.1012420000  \n",
       "50%      0.1309782360  \n",
       "75%      0.2308796940  \n",
       "max      0.3853830000  "
      ]
     },
     "execution_count": 25,
     "metadata": {},
     "output_type": "execute_result"
    }
   ],
   "source": [
    "df.describe()"
   ]
  },
  {
   "cell_type": "code",
   "execution_count": 28,
   "metadata": {},
   "outputs": [
    {
     "name": "stdout",
     "output_type": "stream",
     "text": [
      "<class 'pandas.core.frame.DataFrame'>\n",
      "Float64Index: 4799 entries, 81.0 to 4879.0\n",
      "Data columns (total 5 columns):\n",
      " #   Column  Non-Null Count  Dtype  \n",
      "---  ------  --------------  -----  \n",
      " 0   GR      4797 non-null   float64\n",
      " 1   DT      2170 non-null   float64\n",
      " 2   RHOB    207 non-null    float64\n",
      " 3   DRHO    207 non-null    float64\n",
      " 4   NPHI    309 non-null    float64\n",
      "dtypes: float64(5)\n",
      "memory usage: 225.0 KB\n"
     ]
    }
   ],
   "source": [
    "df.info()"
   ]
  },
  {
   "cell_type": "markdown",
   "metadata": {},
   "source": [
    "# Summary\n",
    "Here we have seen, how welly module in python can be used to load, process and visualize the well log data.\n",
    "\n",
    "Author:\\\n",
    "Dilshad Raza\\\n",
    "07/23/2022"
   ]
  }
 ],
 "metadata": {
  "kernelspec": {
   "display_name": "Python 3.10.5 64-bit",
   "language": "python",
   "name": "python3"
  },
  "language_info": {
   "codemirror_mode": {
    "name": "ipython",
    "version": 3
   },
   "file_extension": ".py",
   "mimetype": "text/x-python",
   "name": "python",
   "nbconvert_exporter": "python",
   "pygments_lexer": "ipython3",
   "version": "3.10.5"
  },
  "orig_nbformat": 4,
  "vscode": {
   "interpreter": {
    "hash": "243456f4527cc2dd26a7b0db2d7f593392b55e517837c7eea3c1c2996538c2e6"
   }
  }
 },
 "nbformat": 4,
 "nbformat_minor": 2
}
