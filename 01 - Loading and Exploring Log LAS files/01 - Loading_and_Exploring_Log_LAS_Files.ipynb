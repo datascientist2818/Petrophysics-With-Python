{
 "cells": [
  {
   "cell_type": "markdown",
   "metadata": {},
   "source": [
    "# Loading and Exploring LAS Files with Python\n",
    "## Introduction\n",
    "Log ASCII Standard (LAS) files are a common Oil and Gas Industry format for storing and transferring well log data.\n",
    "\n",
    "A LAS files is structured file format that was developed by Canadian well Logging Society in the late 1980s and early 1990s. It is used to store log curve data as well as information about the well. The format makes it simple to transfer well log data betweenpeople and it is easy to explore these files as they are stored within plain text.\n",
    "\n",
    "\n",
    "## Loading and Checking Data\n",
    "\n",
    "The first step is to import the required modules, pandas, matplotlib, and LASIO.\n",
    "\n",
    "LASIO is a module that has been developed to handle and work with LAS files in python. More info can be found at: https://lasio.readthedocs.io/en/latest/"
   ]
  },
  {
   "cell_type": "code",
   "execution_count": 3,
   "metadata": {},
   "outputs": [],
   "source": [
    "import pandas as pd\n",
    "import matplotlib.pyplot as plt\n",
    "import lasio\n"
   ]
  },
  {
   "cell_type": "markdown",
   "metadata": {},
   "source": [
    "To load our file in, we can use the .read() method from lasio like;"
   ]
  },
  {
   "cell_type": "code",
   "execution_count": 4,
   "metadata": {},
   "outputs": [],
   "source": [
    "las = lasio.read(\"KAMIAB-1.las\")"
   ]
  },
  {
   "cell_type": "code",
   "execution_count": 5,
   "metadata": {},
   "outputs": [
    {
     "data": {
      "text/plain": [
       "dict_keys(['Version', 'Well', 'Curves', 'Parameter', 'Other'])"
      ]
     },
     "execution_count": 5,
     "metadata": {},
     "output_type": "execute_result"
    }
   ],
   "source": [
    "las.sections.keys()"
   ]
  },
  {
   "cell_type": "code",
   "execution_count": 6,
   "metadata": {},
   "outputs": [
    {
     "data": {
      "text/plain": [
       "[HeaderItem(mnemonic=\"VERS\", unit=\"\", value=\"1.2\", descr=\"CWLS Log ASCII Standa\"),\n",
       " HeaderItem(mnemonic=\"WRAP\", unit=\"\", value=\"NO\", descr=\"One line per depth ste\")]"
      ]
     },
     "execution_count": 6,
     "metadata": {},
     "output_type": "execute_result"
    }
   ],
   "source": [
    "las.sections['Version']"
   ]
  },
  {
   "cell_type": "markdown",
   "metadata": {},
   "source": [
    "Now that our file has been loaded, we can start investigating it's contents.\n",
    "\n",
    "To find information out about where the file originated from, such as the well name, location and what the depth range of the file covers, we can create a simple for loop to go over each header item. Using python's f-string we can join items together."
   ]
  },
  {
   "cell_type": "code",
   "execution_count": 7,
   "metadata": {},
   "outputs": [
    {
     "name": "stdout",
     "output_type": "stream",
     "text": [
      " (STRT): \t\t 9.2653\n",
      " (STOP): \t\t 2301.1404\n",
      " (STEP): \t\t 0.125\n",
      " (NULL): \t\t -999.25\n",
      "COMPANY (COMP): \t\t UNKNOWN\n",
      "WELL (WELL): \t\t KAMIAB-1\n",
      "FIELD (FLD): \t\t UNKNOWN\n",
      "LOCATION (LOC): \t\t UNKNOWN\n",
      "COUNTY (CNTY): \t\t UNKNOWN\n",
      "STATE (STAT): \t\t PUNJAB\n",
      "COUNTRY (CTRY): \t\t UNKNOWN\n",
      "SERVICE COMPANY (SRVC): \t\t UNKNOWN\n",
      "LOG DATE (DATE): \t\t UNKNOWN\n",
      "UNIQUE WELL ID (UWI): \t\t KAMIAB-1\n",
      "SURFACE X (XCOORD): \t\t 0.0\n",
      "SURFACE Y (YCOORD): \t\t 0.0\n",
      "LATITUDE (LAT): \t\t 0.0\n",
      "LONGITUDE (LON): \t\t 0.0\n",
      "SURFACE ELEV (ELEV): \t\t 0.000 (type = KB)\n"
     ]
    }
   ],
   "source": [
    "for item in las.sections['Well']:\n",
    "    print(f\"{item.descr} ({item.mnemonic}): \\t\\t {item.value}\" )\n",
    "     "
   ]
  },
  {
   "cell_type": "markdown",
   "metadata": {},
   "source": [
    "We can see above that we have the key information about the well, such as the name and location.\n",
    "\n",
    "If we wanted to change one of these enteries, for example, COUNTRY (CTRY), we can easily do that by using the following line of code."
   ]
  },
  {
   "cell_type": "code",
   "execution_count": 8,
   "metadata": {},
   "outputs": [],
   "source": [
    "las.sections['Well']['CTRY'] = \"PAKISTAN\""
   ]
  },
  {
   "cell_type": "code",
   "execution_count": 9,
   "metadata": {},
   "outputs": [
    {
     "name": "stdout",
     "output_type": "stream",
     "text": [
      " (STRT): \t\t 9.2653\n",
      " (STOP): \t\t 2301.1404\n",
      " (STEP): \t\t 0.125\n",
      " (NULL): \t\t -999.25\n",
      "COMPANY (COMP): \t\t UNKNOWN\n",
      "WELL (WELL): \t\t KAMIAB-1\n",
      "FIELD (FLD): \t\t UNKNOWN\n",
      "LOCATION (LOC): \t\t UNKNOWN\n",
      "COUNTY (CNTY): \t\t UNKNOWN\n",
      "STATE (STAT): \t\t PUNJAB\n",
      "COUNTRY (CTRY): \t\t PAKISTAN\n",
      "SERVICE COMPANY (SRVC): \t\t UNKNOWN\n",
      "LOG DATE (DATE): \t\t UNKNOWN\n",
      "UNIQUE WELL ID (UWI): \t\t KAMIAB-1\n",
      "SURFACE X (XCOORD): \t\t 0.0\n",
      "SURFACE Y (YCOORD): \t\t 0.0\n",
      "LATITUDE (LAT): \t\t 0.0\n",
      "LONGITUDE (LON): \t\t 0.0\n",
      "SURFACE ELEV (ELEV): \t\t 0.000 (type = KB)\n"
     ]
    }
   ],
   "source": [
    "for item in las.sections['Well']:\n",
    "    print(f\"{item.descr} ({item.mnemonic}): \\t\\t {item.value}\" )"
   ]
  },
  {
   "cell_type": "markdown",
   "metadata": {},
   "source": [
    "We can now see that if we run the code above, the country value is updated.\n",
    "\n",
    "We can also call upon the sections in a different way, in this case we can use las.well to call upon the well section.\n",
    "\n",
    "If we just want to extract the well name, we can simply call it by the following code line;"
   ]
  },
  {
   "cell_type": "code",
   "execution_count": 10,
   "metadata": {},
   "outputs": [
    {
     "data": {
      "text/plain": [
       "'KAMIAB-1'"
      ]
     },
     "execution_count": 10,
     "metadata": {},
     "output_type": "execute_result"
    }
   ],
   "source": [
    "las.well.WELL.value"
   ]
  },
  {
   "cell_type": "markdown",
   "metadata": {},
   "source": [
    "To quickly see the curve mnemonics are present within the las file, we can loop through las.curves and print the mnemonic."
   ]
  },
  {
   "cell_type": "code",
   "execution_count": 11,
   "metadata": {},
   "outputs": [
    {
     "name": "stdout",
     "output_type": "stream",
     "text": [
      "DEPTH\n",
      "CALI\n",
      "DRHO\n",
      "DT\n",
      "GR\n",
      "IND\n",
      "MCAL\n",
      "MINV\n",
      "MNOR\n",
      "NPHI\n",
      "PROX\n",
      "RHOB\n",
      "SN\n",
      "SP\n"
     ]
    }
   ],
   "source": [
    "for curve in las.curves:\n",
    "    print(curve.mnemonic)"
   ]
  },
  {
   "cell_type": "markdown",
   "metadata": {},
   "source": [
    "To see what curves are present within the las file. we can repeat the process with the curve item object and call upon the unit and descr functions to get into on the units and the curve's description. The enumerate function allows us to keep a count of the number of curves that are present within the file. As enumerate returns a 0 on the first loop, we need to 1 to it if we want to include depth curve."
   ]
  },
  {
   "cell_type": "code",
   "execution_count": 12,
   "metadata": {},
   "outputs": [
    {
     "name": "stdout",
     "output_type": "stream",
     "text": [
      "Curve: DEPTH, \t Units: M, \t Description: Measured Depth\n",
      "Curve: CALI, \t Units: UNKNOWN, \t Description: v0 (auto-composite)\n",
      "Curve: DRHO, \t Units: UNKNOWN, \t Description: v0 (auto-composite)\n",
      "Curve: DT, \t Units: UNKNOWN, \t Description: v0 (auto-composite)\n",
      "Curve: GR, \t Units: API, \t Description: v0 (auto-composite)\n",
      "Curve: IND, \t Units: UNKNOWN, \t Description: v0 (auto-composite)\n",
      "Curve: MCAL, \t Units: UNKNOWN, \t Description: v0 (auto-composite)\n",
      "Curve: MINV, \t Units: UNKNOWN, \t Description: v0 (auto-composite)\n",
      "Curve: MNOR, \t Units: UNKNOWN, \t Description: v0 (auto-composite)\n",
      "Curve: NPHI, \t Units: v/v_decimal, \t Description: v0 (auto-composite)\n",
      "Curve: PROX, \t Units: UNKNOWN, \t Description: v0 (auto-composite)\n",
      "Curve: RHOB, \t Units: UNKNOWN, \t Description: v0 (auto-composite)\n",
      "Curve: SN, \t Units: UNKNOWN, \t Description: v0 (auto-composite)\n",
      "Curve: SP, \t Units: UNKNOWN, \t Description: v0 (auto-composite)\n",
      "There are a total of : 14 curves present within this file\n"
     ]
    }
   ],
   "source": [
    "for count, curve in enumerate(las.curves):\n",
    "    print(f\"Curve: {curve.mnemonic}, \\t Units: {curve.unit}, \\t Description: {curve.descr}\")\n",
    "print(f\"There are a total of : {count+1} curves present within this file\")"
   ]
  },
  {
   "cell_type": "markdown",
   "metadata": {},
   "source": [
    "Curves can easily be removed from the LAS file. For Example, if we do no wish to retain SP curve, we can remove it like this:"
   ]
  },
  {
   "cell_type": "code",
   "execution_count": 21,
   "metadata": {},
   "outputs": [],
   "source": [
    "# las.delete_curve(\"SN\")\n",
    "# las.delete_curve(\"RHOB\")\n",
    "# las.delete_curve(\"PROX\")\n",
    "las.delete_curve(\"MNOR\")\n",
    "las.delete_curve(\"MINV\")\n",
    "las.delete_curve(\"MCAL\")\n",
    "las.delete_curve(\"IND\")\n",
    "las.delete_curve(\"DT\")\n",
    "las.delete_curve(\"DRHO\")\n",
    "las.delete_curve(\"CALI\")"
   ]
  },
  {
   "cell_type": "code",
   "execution_count": 22,
   "metadata": {},
   "outputs": [
    {
     "name": "stdout",
     "output_type": "stream",
     "text": [
      "Curve: DEPTH, \t Units: M, \t Description: Measured Depth\n",
      "Curve: GR, \t Units: API, \t Description: v0 (auto-composite)\n",
      "Curve: NPHI, \t Units: v/v_decimal, \t Description: v0 (auto-composite)\n",
      "There are a total of : 3 curves present within this file\n"
     ]
    }
   ],
   "source": [
    "# chek if the curve is deleted\n",
    "for count, curve in enumerate(las.curves):\n",
    "    print(f\"Curve: {curve.mnemonic}, \\t Units: {curve.unit}, \\t Description: {curve.descr}\")\n",
    "print(f\"There are a total of : {count+1} curves present within this file\")"
   ]
  },
  {
   "cell_type": "code",
   "execution_count": 24,
   "metadata": {},
   "outputs": [],
   "source": [
    "las.write('KAMIAB-1-Exported.las')"
   ]
  },
  {
   "cell_type": "markdown",
   "metadata": {},
   "source": [
    "# Converting LAS file to a Pandas Dataframe\n",
    "\n",
    "DAta loaded in using LASIO can be converted to a pandas dataframe using the .df() function. This allows us to eaily plot data and pass it into one of the many machine learning algorithms."
   ]
  },
  {
   "cell_type": "code",
   "execution_count": 25,
   "metadata": {},
   "outputs": [],
   "source": [
    "well = las.df()"
   ]
  },
  {
   "cell_type": "code",
   "execution_count": 26,
   "metadata": {},
   "outputs": [
    {
     "data": {
      "text/html": [
       "<div>\n",
       "<style scoped>\n",
       "    .dataframe tbody tr th:only-of-type {\n",
       "        vertical-align: middle;\n",
       "    }\n",
       "\n",
       "    .dataframe tbody tr th {\n",
       "        vertical-align: top;\n",
       "    }\n",
       "\n",
       "    .dataframe thead th {\n",
       "        text-align: right;\n",
       "    }\n",
       "</style>\n",
       "<table border=\"1\" class=\"dataframe\">\n",
       "  <thead>\n",
       "    <tr style=\"text-align: right;\">\n",
       "      <th></th>\n",
       "      <th>GR</th>\n",
       "      <th>NPHI</th>\n",
       "    </tr>\n",
       "    <tr>\n",
       "      <th>DEPTH</th>\n",
       "      <th></th>\n",
       "      <th></th>\n",
       "    </tr>\n",
       "  </thead>\n",
       "  <tbody>\n",
       "    <tr>\n",
       "      <th>9.2653</th>\n",
       "      <td>27.5780</td>\n",
       "      <td>NaN</td>\n",
       "    </tr>\n",
       "    <tr>\n",
       "      <th>9.3903</th>\n",
       "      <td>27.5780</td>\n",
       "      <td>NaN</td>\n",
       "    </tr>\n",
       "    <tr>\n",
       "      <th>9.5153</th>\n",
       "      <td>27.5806</td>\n",
       "      <td>NaN</td>\n",
       "    </tr>\n",
       "    <tr>\n",
       "      <th>9.6403</th>\n",
       "      <td>27.5745</td>\n",
       "      <td>NaN</td>\n",
       "    </tr>\n",
       "    <tr>\n",
       "      <th>9.7653</th>\n",
       "      <td>27.5574</td>\n",
       "      <td>NaN</td>\n",
       "    </tr>\n",
       "  </tbody>\n",
       "</table>\n",
       "</div>"
      ],
      "text/plain": [
       "             GR  NPHI\n",
       "DEPTH                \n",
       "9.2653  27.5780   NaN\n",
       "9.3903  27.5780   NaN\n",
       "9.5153  27.5806   NaN\n",
       "9.6403  27.5745   NaN\n",
       "9.7653  27.5574   NaN"
      ]
     },
     "execution_count": 26,
     "metadata": {},
     "output_type": "execute_result"
    }
   ],
   "source": [
    "well.head()"
   ]
  },
  {
   "cell_type": "code",
   "execution_count": 27,
   "metadata": {},
   "outputs": [
    {
     "data": {
      "text/html": [
       "<div>\n",
       "<style scoped>\n",
       "    .dataframe tbody tr th:only-of-type {\n",
       "        vertical-align: middle;\n",
       "    }\n",
       "\n",
       "    .dataframe tbody tr th {\n",
       "        vertical-align: top;\n",
       "    }\n",
       "\n",
       "    .dataframe thead th {\n",
       "        text-align: right;\n",
       "    }\n",
       "</style>\n",
       "<table border=\"1\" class=\"dataframe\">\n",
       "  <thead>\n",
       "    <tr style=\"text-align: right;\">\n",
       "      <th></th>\n",
       "      <th>GR</th>\n",
       "      <th>NPHI</th>\n",
       "    </tr>\n",
       "  </thead>\n",
       "  <tbody>\n",
       "    <tr>\n",
       "      <th>count</th>\n",
       "      <td>18263.000000</td>\n",
       "      <td>3139.000000</td>\n",
       "    </tr>\n",
       "    <tr>\n",
       "      <th>mean</th>\n",
       "      <td>52.832571</td>\n",
       "      <td>33.345659</td>\n",
       "    </tr>\n",
       "    <tr>\n",
       "      <th>std</th>\n",
       "      <td>21.590781</td>\n",
       "      <td>9.090388</td>\n",
       "    </tr>\n",
       "    <tr>\n",
       "      <th>min</th>\n",
       "      <td>3.453900</td>\n",
       "      <td>-0.106600</td>\n",
       "    </tr>\n",
       "    <tr>\n",
       "      <th>25%</th>\n",
       "      <td>41.271550</td>\n",
       "      <td>28.091450</td>\n",
       "    </tr>\n",
       "    <tr>\n",
       "      <th>50%</th>\n",
       "      <td>54.457700</td>\n",
       "      <td>33.887000</td>\n",
       "    </tr>\n",
       "    <tr>\n",
       "      <th>75%</th>\n",
       "      <td>65.339100</td>\n",
       "      <td>40.038850</td>\n",
       "    </tr>\n",
       "    <tr>\n",
       "      <th>max</th>\n",
       "      <td>141.403700</td>\n",
       "      <td>54.576200</td>\n",
       "    </tr>\n",
       "  </tbody>\n",
       "</table>\n",
       "</div>"
      ],
      "text/plain": [
       "                 GR         NPHI\n",
       "count  18263.000000  3139.000000\n",
       "mean      52.832571    33.345659\n",
       "std       21.590781     9.090388\n",
       "min        3.453900    -0.106600\n",
       "25%       41.271550    28.091450\n",
       "50%       54.457700    33.887000\n",
       "75%       65.339100    40.038850\n",
       "max      141.403700    54.576200"
      ]
     },
     "execution_count": 27,
     "metadata": {},
     "output_type": "execute_result"
    }
   ],
   "source": [
    "well.describe()"
   ]
  },
  {
   "cell_type": "code",
   "execution_count": 28,
   "metadata": {},
   "outputs": [
    {
     "name": "stdout",
     "output_type": "stream",
     "text": [
      "<class 'pandas.core.frame.DataFrame'>\n",
      "Float64Index: 18336 entries, 9.2653 to 2301.1404\n",
      "Data columns (total 2 columns):\n",
      " #   Column  Non-Null Count  Dtype  \n",
      "---  ------  --------------  -----  \n",
      " 0   GR      18263 non-null  float64\n",
      " 1   NPHI    3139 non-null   float64\n",
      "dtypes: float64(2)\n",
      "memory usage: 429.8 KB\n"
     ]
    }
   ],
   "source": [
    "well.info()"
   ]
  },
  {
   "cell_type": "markdown",
   "metadata": {},
   "source": [
    "# QUICK PLOT\n",
    "\n",
    "using the plotting function within pandas, we can plot all curves on a single plot."
   ]
  },
  {
   "cell_type": "code",
   "execution_count": 29,
   "metadata": {},
   "outputs": [
    {
     "data": {
      "text/plain": [
       "<AxesSubplot:xlabel='DEPTH'>"
      ]
     },
     "execution_count": 29,
     "metadata": {},
     "output_type": "execute_result"
    },
    {
     "data": {
      "image/png": "[encoded data removed]",
      "text/plain": [
       "<Figure size 432x288 with 1 Axes>"
      ]
     },
     "metadata": {
      "needs_background": "light"
     },
     "output_type": "display_data"
    }
   ],
   "source": [
    "well.plot()"
   ]
  },
  {
   "cell_type": "markdown",
   "metadata": {},
   "source": [
    "When we look at the plot above, we can see that is not very useful to us as all logging measurements have their own scales. We can see the NPHI, is not well plotted. We can plot individual curves by applying a y variable argument like:"
   ]
  },
  {
   "cell_type": "code",
   "execution_count": 30,
   "metadata": {},
   "outputs": [
    {
     "data": {
      "text/plain": [
       "<AxesSubplot:xlabel='DEPTH'>"
      ]
     },
     "execution_count": 30,
     "metadata": {},
     "output_type": "execute_result"
    },
    {
     "data": {
      "image/png": "[encoded data removed]",
      "text/plain": [
       "<Figure size 432x288 with 1 Axes>"
      ]
     },
     "metadata": {
      "needs_background": "light"
     },
     "output_type": "display_data"
    }
   ],
   "source": [
    "well.plot(y=\"GR\")"
   ]
  },
  {
   "cell_type": "markdown",
   "metadata": {},
   "source": [
    "This allows us to view the Gamma Ray Curve on it own. We can change the variable to any other curve within the dataframe and view it as follows.\n"
   ]
  },
  {
   "cell_type": "code",
   "execution_count": 31,
   "metadata": {},
   "outputs": [
    {
     "data": {
      "text/plain": [
       "<AxesSubplot:xlabel='DEPTH'>"
      ]
     },
     "execution_count": 31,
     "metadata": {},
     "output_type": "execute_result"
    },
    {
     "data": {
      "image/png": "[encoded data removed]",
      "text/plain": [
       "<Figure size 432x288 with 1 Axes>"
      ]
     },
     "metadata": {
      "needs_background": "light"
     },
     "output_type": "display_data"
    }
   ],
   "source": [
    "well.plot(y=\"NPHI\")"
   ]
  }
 ],
 "metadata": {
  "kernelspec": {
   "display_name": "Python 3.10.5 64-bit",
   "language": "python",
   "name": "python3"
  },
  "language_info": {
   "codemirror_mode": {
    "name": "ipython",
    "version": 3
   },
   "file_extension": ".py",
   "mimetype": "text/x-python",
   "name": "python",
   "nbconvert_exporter": "python",
   "pygments_lexer": "ipython3",
   "version": "3.10.5"
  },
  "orig_nbformat": 4,
  "vscode": {
   "interpreter": {
    "hash": "243456f4527cc2dd26a7b0db2d7f593392b55e517837c7eea3c1c2996538c2e6"
   }
  }
 },
 "nbformat": 4,
 "nbformat_minor": 2
}
